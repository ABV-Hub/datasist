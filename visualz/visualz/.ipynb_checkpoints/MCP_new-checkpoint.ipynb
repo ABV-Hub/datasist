{
 "cells": [
  {
   "cell_type": "markdown",
   "metadata": {
    "colab_type": "text",
    "id": "0y4SJ7tLYard"
   },
   "source": [
    "### This notebook contains the final exam of the microsoft professional capstone project\n",
    "\n",
    "#### Goal:\n",
    "Your goal is to predict whether a mortgage application was accepted (meaning the loan was originated) or denied according to the given dataset, which is adapted from the Federal Financial Institutions Examination Council's (FFIEC).\n",
    "\n",
    "#### Performance Metric:\n",
    "We're predicting a binary variable, so this is a classification problem. To measure classification, we'll use a metric known as accuracy (also known as \"classification rate\"). Accuracy is one metric for evaluating classification models. Informally, accuracy is the fraction of predictions our model got right. For binary classification, accuracy can be calculated in terms of positives and negatives as follows:"
   ]
  },
  {
   "cell_type": "code",
   "execution_count": null,
   "metadata": {
    "colab": {
     "base_uri": "https://localhost:8080/",
     "height": 408
    },
    "colab_type": "code",
    "id": "CCKaYOnUY9S0",
    "outputId": "0c87f9ad-f78f-49a1-c509-b38a67494c0e"
   },
   "outputs": [
    {
     "name": "stdout",
     "output_type": "stream",
     "text": [
      "Collecting git+https://github.com/MaxHalford/xam\n",
      "  Cloning https://github.com/MaxHalford/xam to /tmp/pip-req-build-dwv_56od\n",
      "  Running command git clone -q https://github.com/MaxHalford/xam /tmp/pip-req-build-dwv_56od\n",
      "Requirement already satisfied, skipping upgrade: lightgbm>=2.1.2 in /usr/local/lib/python3.6/dist-packages (from xam==0.0.1.dev0) (2.2.3)\n",
      "Requirement already satisfied, skipping upgrade: matplotlib>=2.2.2 in /usr/local/lib/python3.6/dist-packages (from xam==0.0.1.dev0) (3.0.3)\n",
      "Requirement already satisfied, skipping upgrade: numpy>=1.14.0 in /usr/local/lib/python3.6/dist-packages (from xam==0.0.1.dev0) (1.16.4)\n",
      "Requirement already satisfied, skipping upgrade: pandas>=0.22.0 in /usr/local/lib/python3.6/dist-packages (from xam==0.0.1.dev0) (0.24.2)\n",
      "Requirement already satisfied, skipping upgrade: scipy>=1.0.1 in /usr/local/lib/python3.6/dist-packages (from xam==0.0.1.dev0) (1.3.0)\n",
      "Requirement already satisfied, skipping upgrade: scikit-learn>=0.20.0 in /usr/local/lib/python3.6/dist-packages (from xam==0.0.1.dev0) (0.21.2)\n",
      "Requirement already satisfied, skipping upgrade: cycler>=0.10 in /usr/local/lib/python3.6/dist-packages (from matplotlib>=2.2.2->xam==0.0.1.dev0) (0.10.0)\n",
      "Requirement already satisfied, skipping upgrade: pyparsing!=2.0.4,!=2.1.2,!=2.1.6,>=2.0.1 in /usr/local/lib/python3.6/dist-packages (from matplotlib>=2.2.2->xam==0.0.1.dev0) (2.4.0)\n",
      "Requirement already satisfied, skipping upgrade: kiwisolver>=1.0.1 in /usr/local/lib/python3.6/dist-packages (from matplotlib>=2.2.2->xam==0.0.1.dev0) (1.1.0)\n",
      "Requirement already satisfied, skipping upgrade: python-dateutil>=2.1 in /usr/local/lib/python3.6/dist-packages (from matplotlib>=2.2.2->xam==0.0.1.dev0) (2.5.3)\n",
      "Requirement already satisfied, skipping upgrade: pytz>=2011k in /usr/local/lib/python3.6/dist-packages (from pandas>=0.22.0->xam==0.0.1.dev0) (2018.9)\n",
      "Requirement already satisfied, skipping upgrade: joblib>=0.11 in /usr/local/lib/python3.6/dist-packages (from scikit-learn>=0.20.0->xam==0.0.1.dev0) (0.13.2)\n",
      "Requirement already satisfied, skipping upgrade: six in /usr/local/lib/python3.6/dist-packages (from cycler>=0.10->matplotlib>=2.2.2->xam==0.0.1.dev0) (1.12.0)\n",
      "Requirement already satisfied, skipping upgrade: setuptools in /usr/local/lib/python3.6/dist-packages (from kiwisolver>=1.0.1->matplotlib>=2.2.2->xam==0.0.1.dev0) (41.0.1)\n",
      "Building wheels for collected packages: xam\n",
      "  Building wheel for xam (setup.py) ... \u001b[?25l\u001b[?25hdone\n",
      "  Stored in directory: /tmp/pip-ephem-wheel-cache-9f558sjp/wheels/c1/26/e2/f6ff22ce0373264c4474074284a7773437559dffabe7457895\n",
      "Successfully built xam\n",
      "Installing collected packages: xam\n",
      "Successfully installed xam-0.0.1.dev0\n"
     ]
    }
   ],
   "source": [
    "!pip install git+https://github.com/MaxHalford/xam --upgrade"
   ]
  },
  {
   "cell_type": "code",
   "execution_count": 1,
   "metadata": {
    "colab": {},
    "colab_type": "code",
    "id": "QPqxNpxjYarj"
   },
   "outputs": [
    {
     "ename": "ModuleNotFoundError",
     "evalue": "No module named 'xam'",
     "output_type": "error",
     "traceback": [
      "\u001b[1;31m---------------------------------------------------------------------------\u001b[0m",
      "\u001b[1;31mModuleNotFoundError\u001b[0m                       Traceback (most recent call last)",
      "\u001b[1;32m<ipython-input-1-a6319389bb81>\u001b[0m in \u001b[0;36m<module>\u001b[1;34m\u001b[0m\n\u001b[0;32m      4\u001b[0m \u001b[1;32mimport\u001b[0m \u001b[0mmatplotlib\u001b[0m\u001b[1;33m.\u001b[0m\u001b[0mpyplot\u001b[0m \u001b[1;32mas\u001b[0m \u001b[0mplt\u001b[0m\u001b[1;33m\u001b[0m\u001b[1;33m\u001b[0m\u001b[0m\n\u001b[0;32m      5\u001b[0m \u001b[1;32mimport\u001b[0m \u001b[0mseaborn\u001b[0m \u001b[1;32mas\u001b[0m \u001b[0msns\u001b[0m\u001b[1;33m\u001b[0m\u001b[1;33m\u001b[0m\u001b[0m\n\u001b[1;32m----> 6\u001b[1;33m \u001b[1;32mimport\u001b[0m \u001b[0mxam\u001b[0m\u001b[1;33m\u001b[0m\u001b[1;33m\u001b[0m\u001b[0m\n\u001b[0m\u001b[0;32m      7\u001b[0m \u001b[1;33m\u001b[0m\u001b[0m\n\u001b[0;32m      8\u001b[0m \u001b[1;31m#Makes graph display in notebook\u001b[0m\u001b[1;33m\u001b[0m\u001b[1;33m\u001b[0m\u001b[1;33m\u001b[0m\u001b[0m\n",
      "\u001b[1;31mModuleNotFoundError\u001b[0m: No module named 'xam'"
     ]
    }
   ],
   "source": [
    "#import neccessary modules and libraries for analysis\n",
    "import pandas as pd\n",
    "import numpy as np\n",
    "import matplotlib.pyplot as plt\n",
    "import seaborn as sns\n",
    "import xam\n",
    "\n",
    "#Makes graph display in notebook\n",
    "%matplotlib inline   \n",
    "\n",
    "import warnings\n",
    "def ignore_warn(*args, **kwargs):\n",
    "    pass\n",
    "warnings.warn = ignore_warn #ignore annoying warning (from sklearn and seaborn)\n",
    "\n",
    "\n",
    "from scipy import stats\n",
    "from scipy.stats import norm, skew #for some statistics"
   ]
  },
  {
   "cell_type": "code",
   "execution_count": null,
   "metadata": {
    "colab": {},
    "colab_type": "code",
    "id": "AKgEYfAIZkZw"
   },
   "outputs": [],
   "source": [
    "# Code to read csv file into Colaboratory:\n",
    "!pip install -U -q PyDrive\n",
    "from pydrive.auth import GoogleAuth\n",
    "from pydrive.drive import GoogleDrive\n",
    "from google.colab import auth\n",
    "from oauth2client.client import GoogleCredentials\n",
    "\n",
    "# Authenticate and create the PyDrive client.\n",
    "auth.authenticate_user()\n",
    "gauth = GoogleAuth()\n",
    "gauth.credentials = GoogleCredentials.get_application_default()\n",
    "drive = GoogleDrive(gauth)"
   ]
  },
  {
   "cell_type": "code",
   "execution_count": null,
   "metadata": {
    "colab": {},
    "colab_type": "code",
    "id": "l7KKMddeaPGM"
   },
   "outputs": [],
   "source": [
    "train_link = 'https://drive.google.com/open?id=1Lqth0JiX5IbE0dJ9_QMm6hVSLMu0knqq'\n",
    "test_link = 'https://drive.google.com/open?id=1S1vSS2XSBi0Uk9su1nhrpBePRmXL53QF'\n",
    "train_label_link = 'https://drive.google.com/open?id=1MOph7VJXpwENelvAT5YrTv3mudDQdPZx'\n",
    "submission_link = 'https://drive.google.com/open?id=1aCg8vOD2zpPhEqBJza3RY4JhIYxVFRFB'\n",
    "\n",
    "# link_list = [train_link, train_label, test_link]\n",
    "\n",
    "fluff, id = train_link.split('=')\n",
    "downloaded = drive.CreateFile({'id':id}) \n",
    "downloaded.GetContentFile('train_values.csv')  \n",
    "train_data = pd.read_csv('train_values.csv')\n",
    "\n",
    "\n",
    "fluff, id = test_link.split('=')\n",
    "downloaded = drive.CreateFile({'id':id}) \n",
    "downloaded.GetContentFile('test_values.csv')  \n",
    "test_data = pd.read_csv('test_values.csv')\n",
    "\n",
    "fluff, id = train_label_link.split('=')\n",
    "downloaded = drive.CreateFile({'id':id}) \n",
    "downloaded.GetContentFile('train_labels.csv')  \n",
    "train_label = pd.read_csv('train_labels.csv')\n",
    "\n",
    "fluff, id = submission_link.split('=')\n",
    "downloaded = drive.CreateFile({'id':id}) \n",
    "downloaded.GetContentFile('submission.csv')  \n",
    "submission_sample = pd.read_csv('submission.csv')\n",
    "\n"
   ]
  },
  {
   "cell_type": "code",
   "execution_count": null,
   "metadata": {
    "colab": {
     "base_uri": "https://localhost:8080/",
     "height": 241
    },
    "colab_type": "code",
    "id": "2E7VO_WoYasE",
    "outputId": "cba5ba0d-cb84-4361-8881-696d15e4c088"
   },
   "outputs": [
    {
     "data": {
      "text/html": [
       "<div>\n",
       "<style scoped>\n",
       "    .dataframe tbody tr th:only-of-type {\n",
       "        vertical-align: middle;\n",
       "    }\n",
       "\n",
       "    .dataframe tbody tr th {\n",
       "        vertical-align: top;\n",
       "    }\n",
       "\n",
       "    .dataframe thead th {\n",
       "        text-align: right;\n",
       "    }\n",
       "</style>\n",
       "<table border=\"1\" class=\"dataframe\">\n",
       "  <thead>\n",
       "    <tr style=\"text-align: right;\">\n",
       "      <th></th>\n",
       "      <th>row_id</th>\n",
       "      <th>loan_type</th>\n",
       "      <th>property_type</th>\n",
       "      <th>loan_purpose</th>\n",
       "      <th>occupancy</th>\n",
       "      <th>loan_amount</th>\n",
       "      <th>preapproval</th>\n",
       "      <th>msa_md</th>\n",
       "      <th>state_code</th>\n",
       "      <th>county_code</th>\n",
       "      <th>applicant_ethnicity</th>\n",
       "      <th>applicant_race</th>\n",
       "      <th>applicant_sex</th>\n",
       "      <th>applicant_income</th>\n",
       "      <th>population</th>\n",
       "      <th>minority_population_pct</th>\n",
       "      <th>ffiecmedian_family_income</th>\n",
       "      <th>tract_to_msa_md_income_pct</th>\n",
       "      <th>number_of_owner-occupied_units</th>\n",
       "      <th>number_of_1_to_4_family_units</th>\n",
       "      <th>lender</th>\n",
       "      <th>co_applicant</th>\n",
       "    </tr>\n",
       "  </thead>\n",
       "  <tbody>\n",
       "    <tr>\n",
       "      <th>0</th>\n",
       "      <td>0</td>\n",
       "      <td>3</td>\n",
       "      <td>1</td>\n",
       "      <td>1</td>\n",
       "      <td>1</td>\n",
       "      <td>70.0</td>\n",
       "      <td>3</td>\n",
       "      <td>18</td>\n",
       "      <td>37</td>\n",
       "      <td>246</td>\n",
       "      <td>2</td>\n",
       "      <td>5</td>\n",
       "      <td>1</td>\n",
       "      <td>24.0</td>\n",
       "      <td>6203.0</td>\n",
       "      <td>44.230</td>\n",
       "      <td>60588.0</td>\n",
       "      <td>50.933</td>\n",
       "      <td>716.0</td>\n",
       "      <td>2642.0</td>\n",
       "      <td>4536</td>\n",
       "      <td>False</td>\n",
       "    </tr>\n",
       "    <tr>\n",
       "      <th>1</th>\n",
       "      <td>1</td>\n",
       "      <td>1</td>\n",
       "      <td>1</td>\n",
       "      <td>3</td>\n",
       "      <td>1</td>\n",
       "      <td>178.0</td>\n",
       "      <td>3</td>\n",
       "      <td>369</td>\n",
       "      <td>52</td>\n",
       "      <td>299</td>\n",
       "      <td>1</td>\n",
       "      <td>5</td>\n",
       "      <td>1</td>\n",
       "      <td>57.0</td>\n",
       "      <td>5774.0</td>\n",
       "      <td>15.905</td>\n",
       "      <td>54821.0</td>\n",
       "      <td>100.000</td>\n",
       "      <td>1622.0</td>\n",
       "      <td>2108.0</td>\n",
       "      <td>2458</td>\n",
       "      <td>False</td>\n",
       "    </tr>\n",
       "    <tr>\n",
       "      <th>2</th>\n",
       "      <td>2</td>\n",
       "      <td>2</td>\n",
       "      <td>1</td>\n",
       "      <td>3</td>\n",
       "      <td>1</td>\n",
       "      <td>163.0</td>\n",
       "      <td>3</td>\n",
       "      <td>16</td>\n",
       "      <td>10</td>\n",
       "      <td>306</td>\n",
       "      <td>2</td>\n",
       "      <td>5</td>\n",
       "      <td>1</td>\n",
       "      <td>67.0</td>\n",
       "      <td>6094.0</td>\n",
       "      <td>61.270</td>\n",
       "      <td>67719.0</td>\n",
       "      <td>100.000</td>\n",
       "      <td>760.0</td>\n",
       "      <td>1048.0</td>\n",
       "      <td>5710</td>\n",
       "      <td>False</td>\n",
       "    </tr>\n",
       "    <tr>\n",
       "      <th>3</th>\n",
       "      <td>3</td>\n",
       "      <td>1</td>\n",
       "      <td>1</td>\n",
       "      <td>1</td>\n",
       "      <td>1</td>\n",
       "      <td>155.0</td>\n",
       "      <td>1</td>\n",
       "      <td>305</td>\n",
       "      <td>47</td>\n",
       "      <td>180</td>\n",
       "      <td>2</td>\n",
       "      <td>5</td>\n",
       "      <td>1</td>\n",
       "      <td>105.0</td>\n",
       "      <td>6667.0</td>\n",
       "      <td>6.246</td>\n",
       "      <td>78439.0</td>\n",
       "      <td>100.000</td>\n",
       "      <td>2025.0</td>\n",
       "      <td>2299.0</td>\n",
       "      <td>5888</td>\n",
       "      <td>True</td>\n",
       "    </tr>\n",
       "    <tr>\n",
       "      <th>4</th>\n",
       "      <td>4</td>\n",
       "      <td>1</td>\n",
       "      <td>1</td>\n",
       "      <td>1</td>\n",
       "      <td>1</td>\n",
       "      <td>305.0</td>\n",
       "      <td>3</td>\n",
       "      <td>24</td>\n",
       "      <td>37</td>\n",
       "      <td>20</td>\n",
       "      <td>2</td>\n",
       "      <td>3</td>\n",
       "      <td>2</td>\n",
       "      <td>71.0</td>\n",
       "      <td>6732.0</td>\n",
       "      <td>100.000</td>\n",
       "      <td>63075.0</td>\n",
       "      <td>82.200</td>\n",
       "      <td>1464.0</td>\n",
       "      <td>1847.0</td>\n",
       "      <td>289</td>\n",
       "      <td>False</td>\n",
       "    </tr>\n",
       "  </tbody>\n",
       "</table>\n",
       "</div>"
      ],
      "text/plain": [
       "   row_id  loan_type  ...  lender  co_applicant\n",
       "0       0          3  ...    4536         False\n",
       "1       1          1  ...    2458         False\n",
       "2       2          2  ...    5710         False\n",
       "3       3          1  ...    5888          True\n",
       "4       4          1  ...     289         False\n",
       "\n",
       "[5 rows x 22 columns]"
      ]
     },
     "execution_count": 19,
     "metadata": {
      "tags": []
     },
     "output_type": "execute_result"
    }
   ],
   "source": [
    "#Display a sample of data sets\n",
    "train_data.head()"
   ]
  },
  {
   "cell_type": "code",
   "execution_count": null,
   "metadata": {
    "colab": {
     "base_uri": "https://localhost:8080/",
     "height": 241
    },
    "colab_type": "code",
    "id": "b0qoIqZmYasf",
    "outputId": "82c48699-4150-4ac2-b302-b53c8cc2ddd2"
   },
   "outputs": [
    {
     "data": {
      "text/html": [
       "<div>\n",
       "<style scoped>\n",
       "    .dataframe tbody tr th:only-of-type {\n",
       "        vertical-align: middle;\n",
       "    }\n",
       "\n",
       "    .dataframe tbody tr th {\n",
       "        vertical-align: top;\n",
       "    }\n",
       "\n",
       "    .dataframe thead th {\n",
       "        text-align: right;\n",
       "    }\n",
       "</style>\n",
       "<table border=\"1\" class=\"dataframe\">\n",
       "  <thead>\n",
       "    <tr style=\"text-align: right;\">\n",
       "      <th></th>\n",
       "      <th>row_id</th>\n",
       "      <th>loan_type</th>\n",
       "      <th>property_type</th>\n",
       "      <th>loan_purpose</th>\n",
       "      <th>occupancy</th>\n",
       "      <th>loan_amount</th>\n",
       "      <th>preapproval</th>\n",
       "      <th>msa_md</th>\n",
       "      <th>state_code</th>\n",
       "      <th>county_code</th>\n",
       "      <th>applicant_ethnicity</th>\n",
       "      <th>applicant_race</th>\n",
       "      <th>applicant_sex</th>\n",
       "      <th>applicant_income</th>\n",
       "      <th>population</th>\n",
       "      <th>minority_population_pct</th>\n",
       "      <th>ffiecmedian_family_income</th>\n",
       "      <th>tract_to_msa_md_income_pct</th>\n",
       "      <th>number_of_owner-occupied_units</th>\n",
       "      <th>number_of_1_to_4_family_units</th>\n",
       "      <th>lender</th>\n",
       "      <th>co_applicant</th>\n",
       "    </tr>\n",
       "  </thead>\n",
       "  <tbody>\n",
       "    <tr>\n",
       "      <th>0</th>\n",
       "      <td>0</td>\n",
       "      <td>2</td>\n",
       "      <td>1</td>\n",
       "      <td>3</td>\n",
       "      <td>1</td>\n",
       "      <td>115.0</td>\n",
       "      <td>3</td>\n",
       "      <td>101</td>\n",
       "      <td>16</td>\n",
       "      <td>276</td>\n",
       "      <td>2</td>\n",
       "      <td>5</td>\n",
       "      <td>1</td>\n",
       "      <td>NaN</td>\n",
       "      <td>6329.0</td>\n",
       "      <td>59.536</td>\n",
       "      <td>69889.0</td>\n",
       "      <td>85.78</td>\n",
       "      <td>1874.0</td>\n",
       "      <td>2410.0</td>\n",
       "      <td>3791</td>\n",
       "      <td>True</td>\n",
       "    </tr>\n",
       "    <tr>\n",
       "      <th>1</th>\n",
       "      <td>1</td>\n",
       "      <td>1</td>\n",
       "      <td>1</td>\n",
       "      <td>1</td>\n",
       "      <td>1</td>\n",
       "      <td>252.0</td>\n",
       "      <td>2</td>\n",
       "      <td>87</td>\n",
       "      <td>20</td>\n",
       "      <td>68</td>\n",
       "      <td>2</td>\n",
       "      <td>5</td>\n",
       "      <td>1</td>\n",
       "      <td>107.0</td>\n",
       "      <td>2473.0</td>\n",
       "      <td>8.050</td>\n",
       "      <td>65313.0</td>\n",
       "      <td>100.00</td>\n",
       "      <td>947.0</td>\n",
       "      <td>1214.0</td>\n",
       "      <td>2839</td>\n",
       "      <td>True</td>\n",
       "    </tr>\n",
       "    <tr>\n",
       "      <th>2</th>\n",
       "      <td>2</td>\n",
       "      <td>1</td>\n",
       "      <td>1</td>\n",
       "      <td>1</td>\n",
       "      <td>1</td>\n",
       "      <td>270.0</td>\n",
       "      <td>1</td>\n",
       "      <td>-1</td>\n",
       "      <td>-1</td>\n",
       "      <td>-1</td>\n",
       "      <td>2</td>\n",
       "      <td>1</td>\n",
       "      <td>2</td>\n",
       "      <td>119.0</td>\n",
       "      <td>NaN</td>\n",
       "      <td>NaN</td>\n",
       "      <td>NaN</td>\n",
       "      <td>NaN</td>\n",
       "      <td>NaN</td>\n",
       "      <td>NaN</td>\n",
       "      <td>4701</td>\n",
       "      <td>False</td>\n",
       "    </tr>\n",
       "    <tr>\n",
       "      <th>3</th>\n",
       "      <td>3</td>\n",
       "      <td>2</td>\n",
       "      <td>1</td>\n",
       "      <td>1</td>\n",
       "      <td>1</td>\n",
       "      <td>179.0</td>\n",
       "      <td>2</td>\n",
       "      <td>376</td>\n",
       "      <td>20</td>\n",
       "      <td>11</td>\n",
       "      <td>2</td>\n",
       "      <td>2</td>\n",
       "      <td>2</td>\n",
       "      <td>44.0</td>\n",
       "      <td>4795.0</td>\n",
       "      <td>29.676</td>\n",
       "      <td>57766.0</td>\n",
       "      <td>100.00</td>\n",
       "      <td>1426.0</td>\n",
       "      <td>1765.0</td>\n",
       "      <td>2153</td>\n",
       "      <td>True</td>\n",
       "    </tr>\n",
       "    <tr>\n",
       "      <th>4</th>\n",
       "      <td>4</td>\n",
       "      <td>2</td>\n",
       "      <td>1</td>\n",
       "      <td>1</td>\n",
       "      <td>1</td>\n",
       "      <td>36.0</td>\n",
       "      <td>2</td>\n",
       "      <td>254</td>\n",
       "      <td>48</td>\n",
       "      <td>156</td>\n",
       "      <td>3</td>\n",
       "      <td>6</td>\n",
       "      <td>3</td>\n",
       "      <td>32.0</td>\n",
       "      <td>5246.0</td>\n",
       "      <td>5.110</td>\n",
       "      <td>63332.0</td>\n",
       "      <td>100.00</td>\n",
       "      <td>1452.0</td>\n",
       "      <td>2092.0</td>\n",
       "      <td>5710</td>\n",
       "      <td>False</td>\n",
       "    </tr>\n",
       "  </tbody>\n",
       "</table>\n",
       "</div>"
      ],
      "text/plain": [
       "   row_id  loan_type  ...  lender  co_applicant\n",
       "0       0          2  ...    3791          True\n",
       "1       1          1  ...    2839          True\n",
       "2       2          1  ...    4701         False\n",
       "3       3          2  ...    2153          True\n",
       "4       4          2  ...    5710         False\n",
       "\n",
       "[5 rows x 22 columns]"
      ]
     },
     "execution_count": 20,
     "metadata": {
      "tags": []
     },
     "output_type": "execute_result"
    }
   ],
   "source": [
    "test_data.head()"
   ]
  },
  {
   "cell_type": "markdown",
   "metadata": {
    "colab_type": "text",
    "id": "-TUpFN4EYasu"
   },
   "source": [
    "### Features Description\n",
    "There are 21 variables in this dataset. Each row in the dataset represents a HMDA-reported loan application, and the dataset we are working with covers one particular year.\n",
    "\n",
    "We provide a unique identifier called lender for each individual loan-making institution.\n",
    "\n",
    "The variables are as follows:\n",
    "\n",
    "#### PROPERTY LOCATION\n",
    "msa_md (categorical) - A categorical with no ordering indicating Metropolitan Statistical Area/Metropolitan Division where a value of -1 indicates a missing value\n",
    "state_code (categorical) - A categorical with no ordering indicating the U.S. state where a value of -1 indicates a missing value\n",
    "county_code (categorical) - A categorical with no ordering indicating the county where a value of -1 indicates a missing value\n",
    "\n",
    "#### LOAN INFORMATION\n",
    "lender (categorical) - A categorical with no ordering indicating which of the lenders was the authority in approving or denying this loan\n",
    "\n",
    "loan_amount (int) - Size of the requested loan in thousands of dollars\n",
    "\n",
    "loan_type (categorical) - Indicates whether the loan granted, applied for, or purchased was conventional, government-guaranteed, or government-insured; available values are:\n",
    "\n",
    "1 -- Conventional (any loan other than FHA, VA, FSA, or RHS loans)\n",
    "2 -- FHA-insured (Federal Housing Administration)\n",
    "3 -- VA-guaranteed (Veterans Administration)\n",
    "4 -- FSA/RHS (Farm Service Agency or Rural Housing Service)\n",
    "\n",
    "property_type (categorical) - Indicates whether the loan or application was for a one-to-four-family dwelling (other than manufactured housing), manufactured housing, or multifamily dwelling; available values are:\n",
    "\n",
    "1 -- One to four-family (other than manufactured housing)\n",
    "2 -- Manufactured housing\n",
    "3 -- Multifamily\n",
    "\n",
    "loan_purpose (categorical) - Indicates whether the purpose of the loan or application was for home purchase, home improvement, or refinancing; available values are:\n",
    "\n",
    "1 -- Home purchase\n",
    "2 -- Home improvement\n",
    "3 -- Refinancing\n",
    "\n",
    "occupancy (categorical) - Indicates whether the property to which the loan application relates will be the owner's principal dwelling; available values are:\n",
    "\n",
    "1 -- Owner-occupied as a principal dwelling\n",
    "2 -- Not owner-occupied\n",
    "3 -- Not applicable\n",
    "\n",
    "preapproval (categorical) - Indicate whether the application or loan involved a request for a pre-approval of a home purchase loan; available values are:\n",
    "\n",
    "1 -- Preapproval was requested\n",
    "2 -- Preapproval was not requested\n",
    "3 -- Not applicable\n",
    "\n",
    "#### APPLICANT INFORMATION\n",
    "applicant_income (int) - In thousands of dollars\n",
    "\n",
    "applicant_ethnicity (categorical) - Ethnicity of the applicant; available values are:\n",
    "\n",
    "1 -- Hispanic or Latino\n",
    "2 -- Not Hispanic or Latino\n",
    "3 -- Information not provided by applicant in mail, Internet, or telephone pplication\n",
    "4 -- Not applicable\n",
    "5 -- No co-applicant\n",
    "\n",
    "applicant_race (categorical) - Race of the applicant; available values are:\n",
    "\n",
    "1 -- American Indian or Alaska Native\n",
    "2 -- Asian\n",
    "3 -- Black or African American\n",
    "4 -- Native Hawaiian or Other Pacific Islander\n",
    "5 -- White\n",
    "6 -- Information not provided by applicant in mail, Internet, or telephone application\n",
    "7 -- Not applicable\n",
    "8 -- No co-applicant\n",
    "\n",
    "applicant_sex (categorical) - Sex of the applicant; available values are:\n",
    "\n",
    "1 -- Male\n",
    "2 -- Female\n",
    "3 -- Information not provided by applicant in mail, Internet, or telephone application\n",
    "4 or 5 -- Not applicable\n",
    "co_applicant (bool) - Indicates whether there is a co-applicant (often a spouse) or not\n",
    "\n",
    "#### CENSUS INFORMATION\n",
    "population - Total population in tract\n",
    "minority_population_pct - Percentage of minority population to total population for tract\n",
    "ffiecmedian_family_income - FFIEC Median family income in dollars for the MSA/MD in which the tract is located (adjusted annually by FFIEC)\n",
    "tract_to_msa_md_income_pct - % of tract median family income compared to MSA/MD median family income\n",
    "number_of_owner-occupied_units - Number of dwellings, including individual condominiums, that are lived in by the owner\n",
    "number_of_1_to_4_family_units - Dwellings that are built to house fewer than 5 families\n",
    "\n",
    "#### INDEX AND TARGET VARIABLE\n",
    "row_id - A unique identifier with no intrinsic meaning, but the IDs in your submission must match the submission format exactly\n",
    "accepted - Indicates whether the mortgage application was accepted (successfully originated) with a value of 1 or denied with a value of 0"
   ]
  },
  {
   "cell_type": "code",
   "execution_count": null,
   "metadata": {
    "colab": {
     "base_uri": "https://localhost:8080/",
     "height": 204
    },
    "colab_type": "code",
    "id": "ojt9tSGhYas1",
    "outputId": "78b19344-5c34-4aa5-ada5-02d295b7a21f"
   },
   "outputs": [
    {
     "data": {
      "text/html": [
       "<div>\n",
       "<style scoped>\n",
       "    .dataframe tbody tr th:only-of-type {\n",
       "        vertical-align: middle;\n",
       "    }\n",
       "\n",
       "    .dataframe tbody tr th {\n",
       "        vertical-align: top;\n",
       "    }\n",
       "\n",
       "    .dataframe thead th {\n",
       "        text-align: right;\n",
       "    }\n",
       "</style>\n",
       "<table border=\"1\" class=\"dataframe\">\n",
       "  <thead>\n",
       "    <tr style=\"text-align: right;\">\n",
       "      <th></th>\n",
       "      <th>row_id</th>\n",
       "      <th>accepted</th>\n",
       "    </tr>\n",
       "  </thead>\n",
       "  <tbody>\n",
       "    <tr>\n",
       "      <th>0</th>\n",
       "      <td>0</td>\n",
       "      <td>1</td>\n",
       "    </tr>\n",
       "    <tr>\n",
       "      <th>1</th>\n",
       "      <td>1</td>\n",
       "      <td>0</td>\n",
       "    </tr>\n",
       "    <tr>\n",
       "      <th>2</th>\n",
       "      <td>2</td>\n",
       "      <td>1</td>\n",
       "    </tr>\n",
       "    <tr>\n",
       "      <th>3</th>\n",
       "      <td>3</td>\n",
       "      <td>1</td>\n",
       "    </tr>\n",
       "    <tr>\n",
       "      <th>4</th>\n",
       "      <td>4</td>\n",
       "      <td>1</td>\n",
       "    </tr>\n",
       "  </tbody>\n",
       "</table>\n",
       "</div>"
      ],
      "text/plain": [
       "   row_id  accepted\n",
       "0       0         1\n",
       "1       1         0\n",
       "2       2         1\n",
       "3       3         1\n",
       "4       4         1"
      ]
     },
     "execution_count": 21,
     "metadata": {
      "tags": []
     },
     "output_type": "execute_result"
    }
   ],
   "source": [
    "train_label.head()"
   ]
  },
  {
   "cell_type": "code",
   "execution_count": null,
   "metadata": {
    "colab": {
     "base_uri": "https://localhost:8080/",
     "height": 148
    },
    "colab_type": "code",
    "id": "5zb1vAayYatA",
    "outputId": "73d56655-b719-41a1-9b70-efce8e62ee58"
   },
   "outputs": [
    {
     "data": {
      "text/html": [
       "<div>\n",
       "<style scoped>\n",
       "    .dataframe tbody tr th:only-of-type {\n",
       "        vertical-align: middle;\n",
       "    }\n",
       "\n",
       "    .dataframe tbody tr th {\n",
       "        vertical-align: top;\n",
       "    }\n",
       "\n",
       "    .dataframe thead th {\n",
       "        text-align: right;\n",
       "    }\n",
       "</style>\n",
       "<table border=\"1\" class=\"dataframe\">\n",
       "  <thead>\n",
       "    <tr style=\"text-align: right;\">\n",
       "      <th></th>\n",
       "      <th>row_id</th>\n",
       "      <th>loan_type</th>\n",
       "      <th>property_type</th>\n",
       "      <th>loan_purpose</th>\n",
       "      <th>occupancy</th>\n",
       "      <th>loan_amount</th>\n",
       "      <th>preapproval</th>\n",
       "      <th>msa_md</th>\n",
       "      <th>state_code</th>\n",
       "      <th>county_code</th>\n",
       "      <th>applicant_ethnicity</th>\n",
       "      <th>applicant_race</th>\n",
       "      <th>applicant_sex</th>\n",
       "      <th>applicant_income</th>\n",
       "      <th>population</th>\n",
       "      <th>minority_population_pct</th>\n",
       "      <th>ffiecmedian_family_income</th>\n",
       "      <th>tract_to_msa_md_income_pct</th>\n",
       "      <th>number_of_owner-occupied_units</th>\n",
       "      <th>number_of_1_to_4_family_units</th>\n",
       "      <th>lender</th>\n",
       "      <th>co_applicant</th>\n",
       "      <th>accepted</th>\n",
       "    </tr>\n",
       "  </thead>\n",
       "  <tbody>\n",
       "    <tr>\n",
       "      <th>0</th>\n",
       "      <td>0</td>\n",
       "      <td>3</td>\n",
       "      <td>1</td>\n",
       "      <td>1</td>\n",
       "      <td>1</td>\n",
       "      <td>70.0</td>\n",
       "      <td>3</td>\n",
       "      <td>18</td>\n",
       "      <td>37</td>\n",
       "      <td>246</td>\n",
       "      <td>2</td>\n",
       "      <td>5</td>\n",
       "      <td>1</td>\n",
       "      <td>24.0</td>\n",
       "      <td>6203.0</td>\n",
       "      <td>44.230</td>\n",
       "      <td>60588.0</td>\n",
       "      <td>50.933</td>\n",
       "      <td>716.0</td>\n",
       "      <td>2642.0</td>\n",
       "      <td>4536</td>\n",
       "      <td>False</td>\n",
       "      <td>1</td>\n",
       "    </tr>\n",
       "    <tr>\n",
       "      <th>1</th>\n",
       "      <td>1</td>\n",
       "      <td>1</td>\n",
       "      <td>1</td>\n",
       "      <td>3</td>\n",
       "      <td>1</td>\n",
       "      <td>178.0</td>\n",
       "      <td>3</td>\n",
       "      <td>369</td>\n",
       "      <td>52</td>\n",
       "      <td>299</td>\n",
       "      <td>1</td>\n",
       "      <td>5</td>\n",
       "      <td>1</td>\n",
       "      <td>57.0</td>\n",
       "      <td>5774.0</td>\n",
       "      <td>15.905</td>\n",
       "      <td>54821.0</td>\n",
       "      <td>100.000</td>\n",
       "      <td>1622.0</td>\n",
       "      <td>2108.0</td>\n",
       "      <td>2458</td>\n",
       "      <td>False</td>\n",
       "      <td>0</td>\n",
       "    </tr>\n",
       "  </tbody>\n",
       "</table>\n",
       "</div>"
      ],
      "text/plain": [
       "   row_id  loan_type  property_type  ...  lender  co_applicant  accepted\n",
       "0       0          3              1  ...    4536         False         1\n",
       "1       1          1              1  ...    2458         False         0\n",
       "\n",
       "[2 rows x 23 columns]"
      ]
     },
     "execution_count": 22,
     "metadata": {
      "tags": []
     },
     "output_type": "execute_result"
    }
   ],
   "source": [
    "#merge labels with data set for exploration\n",
    "train_full = pd.merge(train_data, train_label, how=\"left\", on=\"row_id\")\n",
    "train_full.head(2)"
   ]
  },
  {
   "cell_type": "markdown",
   "metadata": {
    "colab_type": "text",
    "id": "acmetbqVYatS"
   },
   "source": [
    "## Let's perform some statistics on the data"
   ]
  },
  {
   "cell_type": "code",
   "execution_count": null,
   "metadata": {
    "colab": {
     "base_uri": "https://localhost:8080/",
     "height": 34
    },
    "colab_type": "code",
    "id": "QcQCQ9ODYatW",
    "outputId": "0e0ab082-e87c-4580-b0ff-5a350a2bb5a8"
   },
   "outputs": [
    {
     "data": {
      "text/plain": [
       "(500000, 23)"
      ]
     },
     "execution_count": 23,
     "metadata": {
      "tags": []
     },
     "output_type": "execute_result"
    }
   ],
   "source": [
    "#get shape\n",
    "train_full.shape"
   ]
  },
  {
   "cell_type": "code",
   "execution_count": null,
   "metadata": {
    "colab": {
     "base_uri": "https://localhost:8080/",
     "height": 334
    },
    "colab_type": "code",
    "id": "Ocz7FelDYati",
    "outputId": "39ead35b-a440-4e6a-cb78-ec32660f70ca"
   },
   "outputs": [
    {
     "data": {
      "text/html": [
       "<div>\n",
       "<style scoped>\n",
       "    .dataframe tbody tr th:only-of-type {\n",
       "        vertical-align: middle;\n",
       "    }\n",
       "\n",
       "    .dataframe tbody tr th {\n",
       "        vertical-align: top;\n",
       "    }\n",
       "\n",
       "    .dataframe thead th {\n",
       "        text-align: right;\n",
       "    }\n",
       "</style>\n",
       "<table border=\"1\" class=\"dataframe\">\n",
       "  <thead>\n",
       "    <tr style=\"text-align: right;\">\n",
       "      <th></th>\n",
       "      <th>row_id</th>\n",
       "      <th>loan_type</th>\n",
       "      <th>property_type</th>\n",
       "      <th>loan_purpose</th>\n",
       "      <th>occupancy</th>\n",
       "      <th>loan_amount</th>\n",
       "      <th>preapproval</th>\n",
       "      <th>msa_md</th>\n",
       "      <th>state_code</th>\n",
       "      <th>county_code</th>\n",
       "      <th>applicant_ethnicity</th>\n",
       "      <th>applicant_race</th>\n",
       "      <th>applicant_sex</th>\n",
       "      <th>applicant_income</th>\n",
       "      <th>population</th>\n",
       "      <th>minority_population_pct</th>\n",
       "      <th>ffiecmedian_family_income</th>\n",
       "      <th>tract_to_msa_md_income_pct</th>\n",
       "      <th>number_of_owner-occupied_units</th>\n",
       "      <th>number_of_1_to_4_family_units</th>\n",
       "      <th>lender</th>\n",
       "      <th>accepted</th>\n",
       "    </tr>\n",
       "  </thead>\n",
       "  <tbody>\n",
       "    <tr>\n",
       "      <th>count</th>\n",
       "      <td>500000.000000</td>\n",
       "      <td>500000.000000</td>\n",
       "      <td>500000.000000</td>\n",
       "      <td>500000.000000</td>\n",
       "      <td>500000.000000</td>\n",
       "      <td>500000.000000</td>\n",
       "      <td>500000.000000</td>\n",
       "      <td>500000.000000</td>\n",
       "      <td>500000.000000</td>\n",
       "      <td>500000.000000</td>\n",
       "      <td>500000.000000</td>\n",
       "      <td>500000.000000</td>\n",
       "      <td>500000.000000</td>\n",
       "      <td>460052.000000</td>\n",
       "      <td>477535.000000</td>\n",
       "      <td>477534.000000</td>\n",
       "      <td>477560.000000</td>\n",
       "      <td>477486.000000</td>\n",
       "      <td>477435.000000</td>\n",
       "      <td>477470.000000</td>\n",
       "      <td>500000.000000</td>\n",
       "      <td>500000.000000</td>\n",
       "    </tr>\n",
       "    <tr>\n",
       "      <th>mean</th>\n",
       "      <td>249999.500000</td>\n",
       "      <td>1.366276</td>\n",
       "      <td>1.047650</td>\n",
       "      <td>2.066810</td>\n",
       "      <td>1.109590</td>\n",
       "      <td>221.753158</td>\n",
       "      <td>2.764722</td>\n",
       "      <td>181.606972</td>\n",
       "      <td>23.726924</td>\n",
       "      <td>144.542062</td>\n",
       "      <td>2.036228</td>\n",
       "      <td>4.786586</td>\n",
       "      <td>1.462374</td>\n",
       "      <td>102.389521</td>\n",
       "      <td>5416.833956</td>\n",
       "      <td>31.617310</td>\n",
       "      <td>69235.603298</td>\n",
       "      <td>91.832624</td>\n",
       "      <td>1427.718282</td>\n",
       "      <td>1886.147065</td>\n",
       "      <td>3720.121344</td>\n",
       "      <td>0.500228</td>\n",
       "    </tr>\n",
       "    <tr>\n",
       "      <th>std</th>\n",
       "      <td>144337.711634</td>\n",
       "      <td>0.690555</td>\n",
       "      <td>0.231404</td>\n",
       "      <td>0.948371</td>\n",
       "      <td>0.326092</td>\n",
       "      <td>590.641648</td>\n",
       "      <td>0.543061</td>\n",
       "      <td>138.464169</td>\n",
       "      <td>15.982768</td>\n",
       "      <td>100.243612</td>\n",
       "      <td>0.511351</td>\n",
       "      <td>1.024927</td>\n",
       "      <td>0.677685</td>\n",
       "      <td>153.534496</td>\n",
       "      <td>2728.144999</td>\n",
       "      <td>26.333938</td>\n",
       "      <td>14810.058791</td>\n",
       "      <td>14.210924</td>\n",
       "      <td>737.559511</td>\n",
       "      <td>914.123744</td>\n",
       "      <td>1838.313175</td>\n",
       "      <td>0.500000</td>\n",
       "    </tr>\n",
       "    <tr>\n",
       "      <th>min</th>\n",
       "      <td>0.000000</td>\n",
       "      <td>1.000000</td>\n",
       "      <td>1.000000</td>\n",
       "      <td>1.000000</td>\n",
       "      <td>1.000000</td>\n",
       "      <td>1.000000</td>\n",
       "      <td>1.000000</td>\n",
       "      <td>-1.000000</td>\n",
       "      <td>-1.000000</td>\n",
       "      <td>-1.000000</td>\n",
       "      <td>1.000000</td>\n",
       "      <td>1.000000</td>\n",
       "      <td>1.000000</td>\n",
       "      <td>1.000000</td>\n",
       "      <td>14.000000</td>\n",
       "      <td>0.534000</td>\n",
       "      <td>17858.000000</td>\n",
       "      <td>3.981000</td>\n",
       "      <td>4.000000</td>\n",
       "      <td>1.000000</td>\n",
       "      <td>0.000000</td>\n",
       "      <td>0.000000</td>\n",
       "    </tr>\n",
       "    <tr>\n",
       "      <th>25%</th>\n",
       "      <td>124999.750000</td>\n",
       "      <td>1.000000</td>\n",
       "      <td>1.000000</td>\n",
       "      <td>1.000000</td>\n",
       "      <td>1.000000</td>\n",
       "      <td>93.000000</td>\n",
       "      <td>3.000000</td>\n",
       "      <td>25.000000</td>\n",
       "      <td>6.000000</td>\n",
       "      <td>57.000000</td>\n",
       "      <td>2.000000</td>\n",
       "      <td>5.000000</td>\n",
       "      <td>1.000000</td>\n",
       "      <td>47.000000</td>\n",
       "      <td>3744.000000</td>\n",
       "      <td>10.700000</td>\n",
       "      <td>59731.000000</td>\n",
       "      <td>88.067250</td>\n",
       "      <td>944.000000</td>\n",
       "      <td>1301.000000</td>\n",
       "      <td>2442.000000</td>\n",
       "      <td>0.000000</td>\n",
       "    </tr>\n",
       "    <tr>\n",
       "      <th>50%</th>\n",
       "      <td>249999.500000</td>\n",
       "      <td>1.000000</td>\n",
       "      <td>1.000000</td>\n",
       "      <td>2.000000</td>\n",
       "      <td>1.000000</td>\n",
       "      <td>162.000000</td>\n",
       "      <td>3.000000</td>\n",
       "      <td>192.000000</td>\n",
       "      <td>26.000000</td>\n",
       "      <td>131.000000</td>\n",
       "      <td>2.000000</td>\n",
       "      <td>5.000000</td>\n",
       "      <td>1.000000</td>\n",
       "      <td>74.000000</td>\n",
       "      <td>4975.000000</td>\n",
       "      <td>22.901000</td>\n",
       "      <td>67526.000000</td>\n",
       "      <td>100.000000</td>\n",
       "      <td>1327.000000</td>\n",
       "      <td>1753.000000</td>\n",
       "      <td>3731.000000</td>\n",
       "      <td>1.000000</td>\n",
       "    </tr>\n",
       "    <tr>\n",
       "      <th>75%</th>\n",
       "      <td>374999.250000</td>\n",
       "      <td>2.000000</td>\n",
       "      <td>1.000000</td>\n",
       "      <td>3.000000</td>\n",
       "      <td>1.000000</td>\n",
       "      <td>266.000000</td>\n",
       "      <td>3.000000</td>\n",
       "      <td>314.000000</td>\n",
       "      <td>37.000000</td>\n",
       "      <td>246.000000</td>\n",
       "      <td>2.000000</td>\n",
       "      <td>5.000000</td>\n",
       "      <td>2.000000</td>\n",
       "      <td>117.000000</td>\n",
       "      <td>6467.000000</td>\n",
       "      <td>46.020000</td>\n",
       "      <td>75351.000000</td>\n",
       "      <td>100.000000</td>\n",
       "      <td>1780.000000</td>\n",
       "      <td>2309.000000</td>\n",
       "      <td>5436.000000</td>\n",
       "      <td>1.000000</td>\n",
       "    </tr>\n",
       "    <tr>\n",
       "      <th>max</th>\n",
       "      <td>499999.000000</td>\n",
       "      <td>4.000000</td>\n",
       "      <td>3.000000</td>\n",
       "      <td>3.000000</td>\n",
       "      <td>3.000000</td>\n",
       "      <td>100878.000000</td>\n",
       "      <td>3.000000</td>\n",
       "      <td>408.000000</td>\n",
       "      <td>52.000000</td>\n",
       "      <td>324.000000</td>\n",
       "      <td>4.000000</td>\n",
       "      <td>7.000000</td>\n",
       "      <td>4.000000</td>\n",
       "      <td>10139.000000</td>\n",
       "      <td>37097.000000</td>\n",
       "      <td>100.000000</td>\n",
       "      <td>125248.000000</td>\n",
       "      <td>100.000000</td>\n",
       "      <td>8771.000000</td>\n",
       "      <td>13623.000000</td>\n",
       "      <td>6508.000000</td>\n",
       "      <td>1.000000</td>\n",
       "    </tr>\n",
       "  </tbody>\n",
       "</table>\n",
       "</div>"
      ],
      "text/plain": [
       "              row_id      loan_type  ...         lender       accepted\n",
       "count  500000.000000  500000.000000  ...  500000.000000  500000.000000\n",
       "mean   249999.500000       1.366276  ...    3720.121344       0.500228\n",
       "std    144337.711634       0.690555  ...    1838.313175       0.500000\n",
       "min         0.000000       1.000000  ...       0.000000       0.000000\n",
       "25%    124999.750000       1.000000  ...    2442.000000       0.000000\n",
       "50%    249999.500000       1.000000  ...    3731.000000       1.000000\n",
       "75%    374999.250000       2.000000  ...    5436.000000       1.000000\n",
       "max    499999.000000       4.000000  ...    6508.000000       1.000000\n",
       "\n",
       "[8 rows x 22 columns]"
      ]
     },
     "execution_count": 24,
     "metadata": {
      "tags": []
     },
     "output_type": "execute_result"
    }
   ],
   "source": [
    "train_full.describe()"
   ]
  },
  {
   "cell_type": "code",
   "execution_count": null,
   "metadata": {
    "colab": {},
    "colab_type": "code",
    "id": "d7Dl2A6KYats"
   },
   "outputs": [],
   "source": [
    "#seperate small categorical features from numerical features\n",
    "cat_feats = [\"loan_purpose\", \"occupancy\", \"preapproval\",\"loan_type\", \"property_type\", \n",
    "             \"applicant_ethnicity\", \"applicant_race\", \"applicant_sex\", \"co_applicant\"\n",
    "            ]\n",
    "\n",
    "num_feats = ['loan_amount','applicant_income', 'population', 'minority_population_pct',\n",
    "               'ffiecmedian_family_income', 'tract_to_msa_md_income_pct',\n",
    "               'number_of_owner-occupied_units', 'number_of_1_to_4_family_units'\n",
    "            ]"
   ]
  },
  {
   "cell_type": "markdown",
   "metadata": {
    "colab_type": "text",
    "id": "eG0C70iSYauL"
   },
   "source": [
    "The categorical features have been encoded with numbers, we'll map them to their corresponding values and save in a new data frame for doing visualization."
   ]
  },
  {
   "cell_type": "code",
   "execution_count": null,
   "metadata": {
    "colab": {
     "base_uri": "https://localhost:8080/",
     "height": 326
    },
    "colab_type": "code",
    "id": "a8eYrmIPYauO",
    "outputId": "8a987849-ddd1-4875-9ae0-bfa7683c8d28"
   },
   "outputs": [
    {
     "data": {
      "text/html": [
       "<div>\n",
       "<style scoped>\n",
       "    .dataframe tbody tr th:only-of-type {\n",
       "        vertical-align: middle;\n",
       "    }\n",
       "\n",
       "    .dataframe tbody tr th {\n",
       "        vertical-align: top;\n",
       "    }\n",
       "\n",
       "    .dataframe thead th {\n",
       "        text-align: right;\n",
       "    }\n",
       "</style>\n",
       "<table border=\"1\" class=\"dataframe\">\n",
       "  <thead>\n",
       "    <tr style=\"text-align: right;\">\n",
       "      <th></th>\n",
       "      <th>row_id</th>\n",
       "      <th>loan_type</th>\n",
       "      <th>property_type</th>\n",
       "      <th>loan_purpose</th>\n",
       "      <th>occupancy</th>\n",
       "      <th>loan_amount</th>\n",
       "      <th>preapproval</th>\n",
       "      <th>msa_md</th>\n",
       "      <th>state_code</th>\n",
       "      <th>county_code</th>\n",
       "      <th>applicant_ethnicity</th>\n",
       "      <th>applicant_race</th>\n",
       "      <th>applicant_sex</th>\n",
       "      <th>applicant_income</th>\n",
       "      <th>population</th>\n",
       "      <th>minority_population_pct</th>\n",
       "      <th>ffiecmedian_family_income</th>\n",
       "      <th>tract_to_msa_md_income_pct</th>\n",
       "      <th>number_of_owner-occupied_units</th>\n",
       "      <th>number_of_1_to_4_family_units</th>\n",
       "      <th>lender</th>\n",
       "      <th>co_applicant</th>\n",
       "      <th>accepted</th>\n",
       "    </tr>\n",
       "  </thead>\n",
       "  <tbody>\n",
       "    <tr>\n",
       "      <th>0</th>\n",
       "      <td>0</td>\n",
       "      <td>VA</td>\n",
       "      <td>One-to-four-family</td>\n",
       "      <td>Home-purchase</td>\n",
       "      <td>Owner-occupied</td>\n",
       "      <td>70.0</td>\n",
       "      <td>Not-applicable</td>\n",
       "      <td>18</td>\n",
       "      <td>37</td>\n",
       "      <td>246</td>\n",
       "      <td>Not-Hispanic/Latino</td>\n",
       "      <td>White</td>\n",
       "      <td>Male</td>\n",
       "      <td>24.0</td>\n",
       "      <td>6203.0</td>\n",
       "      <td>44.230</td>\n",
       "      <td>60588.0</td>\n",
       "      <td>50.933</td>\n",
       "      <td>716.0</td>\n",
       "      <td>2642.0</td>\n",
       "      <td>4536</td>\n",
       "      <td>False</td>\n",
       "      <td>1</td>\n",
       "    </tr>\n",
       "    <tr>\n",
       "      <th>1</th>\n",
       "      <td>1</td>\n",
       "      <td>Conventional</td>\n",
       "      <td>One-to-four-family</td>\n",
       "      <td>Refinancing</td>\n",
       "      <td>Owner-occupied</td>\n",
       "      <td>178.0</td>\n",
       "      <td>Not-applicable</td>\n",
       "      <td>369</td>\n",
       "      <td>52</td>\n",
       "      <td>299</td>\n",
       "      <td>Hispanic/Latino</td>\n",
       "      <td>White</td>\n",
       "      <td>Male</td>\n",
       "      <td>57.0</td>\n",
       "      <td>5774.0</td>\n",
       "      <td>15.905</td>\n",
       "      <td>54821.0</td>\n",
       "      <td>100.000</td>\n",
       "      <td>1622.0</td>\n",
       "      <td>2108.0</td>\n",
       "      <td>2458</td>\n",
       "      <td>False</td>\n",
       "      <td>0</td>\n",
       "    </tr>\n",
       "    <tr>\n",
       "      <th>2</th>\n",
       "      <td>2</td>\n",
       "      <td>FHA</td>\n",
       "      <td>One-to-four-family</td>\n",
       "      <td>Refinancing</td>\n",
       "      <td>Owner-occupied</td>\n",
       "      <td>163.0</td>\n",
       "      <td>Not-applicable</td>\n",
       "      <td>16</td>\n",
       "      <td>10</td>\n",
       "      <td>306</td>\n",
       "      <td>Not-Hispanic/Latino</td>\n",
       "      <td>White</td>\n",
       "      <td>Male</td>\n",
       "      <td>67.0</td>\n",
       "      <td>6094.0</td>\n",
       "      <td>61.270</td>\n",
       "      <td>67719.0</td>\n",
       "      <td>100.000</td>\n",
       "      <td>760.0</td>\n",
       "      <td>1048.0</td>\n",
       "      <td>5710</td>\n",
       "      <td>False</td>\n",
       "      <td>1</td>\n",
       "    </tr>\n",
       "    <tr>\n",
       "      <th>3</th>\n",
       "      <td>3</td>\n",
       "      <td>Conventional</td>\n",
       "      <td>One-to-four-family</td>\n",
       "      <td>Home-purchase</td>\n",
       "      <td>Owner-occupied</td>\n",
       "      <td>155.0</td>\n",
       "      <td>Preapproval-requested</td>\n",
       "      <td>305</td>\n",
       "      <td>47</td>\n",
       "      <td>180</td>\n",
       "      <td>Not-Hispanic/Latino</td>\n",
       "      <td>White</td>\n",
       "      <td>Male</td>\n",
       "      <td>105.0</td>\n",
       "      <td>6667.0</td>\n",
       "      <td>6.246</td>\n",
       "      <td>78439.0</td>\n",
       "      <td>100.000</td>\n",
       "      <td>2025.0</td>\n",
       "      <td>2299.0</td>\n",
       "      <td>5888</td>\n",
       "      <td>True</td>\n",
       "      <td>1</td>\n",
       "    </tr>\n",
       "    <tr>\n",
       "      <th>4</th>\n",
       "      <td>4</td>\n",
       "      <td>Conventional</td>\n",
       "      <td>One-to-four-family</td>\n",
       "      <td>Home-purchase</td>\n",
       "      <td>Owner-occupied</td>\n",
       "      <td>305.0</td>\n",
       "      <td>Not-applicable</td>\n",
       "      <td>24</td>\n",
       "      <td>37</td>\n",
       "      <td>20</td>\n",
       "      <td>Not-Hispanic/Latino</td>\n",
       "      <td>Black/African-American</td>\n",
       "      <td>Female</td>\n",
       "      <td>71.0</td>\n",
       "      <td>6732.0</td>\n",
       "      <td>100.000</td>\n",
       "      <td>63075.0</td>\n",
       "      <td>82.200</td>\n",
       "      <td>1464.0</td>\n",
       "      <td>1847.0</td>\n",
       "      <td>289</td>\n",
       "      <td>False</td>\n",
       "      <td>1</td>\n",
       "    </tr>\n",
       "  </tbody>\n",
       "</table>\n",
       "</div>"
      ],
      "text/plain": [
       "   row_id     loan_type       property_type  ... lender co_applicant  accepted\n",
       "0       0            VA  One-to-four-family  ...   4536        False         1\n",
       "1       1  Conventional  One-to-four-family  ...   2458        False         0\n",
       "2       2           FHA  One-to-four-family  ...   5710        False         1\n",
       "3       3  Conventional  One-to-four-family  ...   5888         True         1\n",
       "4       4  Conventional  One-to-four-family  ...    289        False         1\n",
       "\n",
       "[5 rows x 23 columns]"
      ]
     },
     "execution_count": 26,
     "metadata": {
      "tags": []
     },
     "output_type": "execute_result"
    }
   ],
   "source": [
    "code_list = [['loan_purpose', \n",
    "              {1 : 'Home-purchase', \n",
    "               2 : 'Home-improvement', \n",
    "               3 : 'Refinancing'}],\n",
    "             \n",
    "            ['occupancy',\n",
    "            {1 : 'Owner-occupied', \n",
    "             2 : 'Not-owner-occupied', \n",
    "             3 : 'Not-applicable'}],\n",
    "             \n",
    "            ['preapproval',\n",
    "            {1 : 'Preapproval-requested', \n",
    "             2 : 'Preapproval-not-requested',\n",
    "             3 : 'Not-applicable'}],\n",
    "             \n",
    "            ['loan_type',\n",
    "            {1 : 'Conventional', \n",
    "             2 : 'FHA', \n",
    "             3 : 'VA', \n",
    "             4 : 'FSA/RHS'}],\n",
    "             \n",
    "            ['property_type',\n",
    "            {1 : 'One-to-four-family',\n",
    "             2 : 'Manufactured-housing', \n",
    "             3 : 'Multifamily'}],\n",
    "             \n",
    "            ['applicant_ethnicity',\n",
    "            {1 : 'Hispanic/Latino', \n",
    "             2 : 'Not-Hispanic/Latino',\n",
    "             3 : 'Not-provided ', \n",
    "             4 : 'Not-applicable', \n",
    "             5 : 'No-co-applicant'}],\n",
    "             \n",
    "            ['applicant_race',\n",
    "            {1 : 'American-Indian/Alaska-Native', \n",
    "             2 : 'Asian', \n",
    "             3 : 'Black/African-American', \n",
    "             4 : 'Native-Hawaiian/Islander', \n",
    "             5 : 'White', \n",
    "             6 : 'Not-provided', \n",
    "             7 : 'Not-applicable', \n",
    "             8 : 'No-co-applicant'}],\n",
    "             \n",
    "            ['applicant_sex',\n",
    "            {1 : 'Male',\n",
    "             2 : 'Female', \n",
    "             3 : 'Not-provided',\n",
    "             4 : 'Not-applicable' }]\n",
    "            \n",
    "            ]\n",
    "\n",
    "#Save edited data set to new variable used for EDA only\n",
    "train_2_plot = train_full\n",
    "\n",
    "for feat_dic in code_list:\n",
    "    col = feat_dic[0]\n",
    "    dic = feat_dic[1]\n",
    "    train_2_plot[col] = [dic[x] for x in train_2_plot[col]]\n",
    "    test_data[col] = [dic[x] for x in test_data[col]]   #Test set\n",
    "\n",
    "    \n",
    "train_2_plot.head()\n",
    "    "
   ]
  },
  {
   "cell_type": "code",
   "execution_count": null,
   "metadata": {
    "colab": {
     "base_uri": "https://localhost:8080/",
     "height": 1000
    },
    "colab_type": "code",
    "id": "emzZX-mWYaue",
    "outputId": "cab5b951-14b5-49b0-c694-ee130a5b2468"
   },
   "outputs": [
    {
     "name": "stdout",
     "output_type": "stream",
     "text": [
      "Value Count for loan_purpose\n",
      "Refinancing         242670\n",
      "Home-purchase       209265\n",
      "Home-improvement     48065\n",
      "Name: loan_purpose, dtype: int64\n",
      "---------------------------\n",
      "Value Count for occupancy\n",
      "Owner-occupied        447394\n",
      "Not-owner-occupied     50417\n",
      "Not-applicable          2189\n",
      "Name: occupancy, dtype: int64\n",
      "---------------------------\n",
      "Value Count for preapproval\n",
      "Not-applicable               411109\n",
      "Preapproval-not-requested     60143\n",
      "Preapproval-requested         28748\n",
      "Name: preapproval, dtype: int64\n",
      "---------------------------\n",
      "Value Count for loan_type\n",
      "Conventional    370827\n",
      "FHA              82430\n",
      "VA               39521\n",
      "FSA/RHS           7222\n",
      "Name: loan_type, dtype: int64\n",
      "---------------------------\n",
      "Value Count for property_type\n",
      "One-to-four-family      478217\n",
      "Manufactured-housing     19741\n",
      "Multifamily               2042\n",
      "Name: property_type, dtype: int64\n",
      "---------------------------\n",
      "Value Count for applicant_ethnicity\n",
      "Not-Hispanic/Latino    386061\n",
      "Not-provided            57298\n",
      "Hispanic/Latino         50822\n",
      "Not-applicable           5819\n",
      "Name: applicant_ethnicity, dtype: int64\n",
      "---------------------------\n",
      "Value Count for applicant_race\n",
      "White                            361538\n",
      "Not-provided                      59862\n",
      "Black/African-American            40495\n",
      "Asian                             25756\n",
      "Not-applicable                     5678\n",
      "American-Indian/Alaska-Native      4332\n",
      "Native-Hawaiian/Islander           2339\n",
      "Name: applicant_race, dtype: int64\n",
      "---------------------------\n",
      "Value Count for applicant_sex\n",
      "Male              315806\n",
      "Female            142876\n",
      "Not-provided       35643\n",
      "Not-applicable      5675\n",
      "Name: applicant_sex, dtype: int64\n",
      "---------------------------\n",
      "Value Count for co_applicant\n",
      "False    299974\n",
      "True     200026\n",
      "Name: co_applicant, dtype: int64\n",
      "---------------------------\n"
     ]
    }
   ],
   "source": [
    "# check number of unique values in categoricals\n",
    "for feat in cat_feats:\n",
    "    print('Value Count for', feat)\n",
    "    print(train_2_plot[feat].value_counts())\n",
    "    print(\"---------------------------\")"
   ]
  },
  {
   "cell_type": "markdown",
   "metadata": {
    "colab_type": "text",
    "id": "dWCQtJ2zYaup"
   },
   "source": [
    "## Exploratory data analysis\n",
    "\n",
    "Let's explore the categorical features first"
   ]
  },
  {
   "cell_type": "markdown",
   "metadata": {
    "colab_type": "text",
    "id": "YWKsaeNTYaus"
   },
   "source": [
    "### CHART FOR REPORT"
   ]
  },
  {
   "cell_type": "code",
   "execution_count": null,
   "metadata": {
    "colab": {
     "base_uri": "https://localhost:8080/",
     "height": 34
    },
    "colab_type": "code",
    "id": "msxUqhD-ZjzM",
    "outputId": "74d65066-e97c-41c1-fd99-56cb2ff50776"
   },
   "outputs": [
    {
     "data": {
      "text/plain": [
       "array(['White', 'Blacks/Asians/None', 'Others'], dtype=object)"
      ]
     },
     "execution_count": 58,
     "metadata": {
      "tags": []
     },
     "output_type": "execute_result"
    }
   ],
   "source": [
    "dic = {\"White\" : \"White\",\n",
    "      \"Black/African-American\": \"Blacks/Asians/None\",\n",
    "      \"Not-provided\": \"Blacks/Asians/None\",\n",
    "      \"Asian\": \"Blacks/Asians/None\",\n",
    "      \"American-Indian/Alaska-Native\": \"Others\",\n",
    "      \"Not-applicable\": \"Others\",\n",
    "      \"Native-Hawaiian/Islander\": \"Others\"}\n",
    "\n",
    "train_2_plot['applicant_race_joined'] = train_2_plot['applicant_race'].map(dic)\n",
    "train_2_plot['applicant_race_joined'].unique()"
   ]
  },
  {
   "cell_type": "code",
   "execution_count": null,
   "metadata": {
    "colab": {
     "base_uri": "https://localhost:8080/",
     "height": 386
    },
    "colab_type": "code",
    "id": "ltu5c19Ka8Td",
    "outputId": "190079cb-c491-447e-c369-9ee8116a6ae8"
   },
   "outputs": [
    {
     "data": {
      "text/plain": [
       "Text(0.5, 1.0, 'Bar plot for Applicant race')"
      ]
     },
     "execution_count": 66,
     "metadata": {
      "tags": []
     },
     "output_type": "execute_result"
    },
    {
     "data": {
      "image/png": "[encoded data removed]",
      "text/plain": [
       "<Figure size 432x288 with 1 Axes>"
      ]
     },
     "metadata": {
      "tags": []
     },
     "output_type": "display_data"
    }
   ],
   "source": [
    "train_2_plot['applicant_race_joined'].value_counts().plot.bar()\n",
    "plt.title(\"Bar plot for Applicant race\")"
   ]
  },
  {
   "cell_type": "markdown",
   "metadata": {
    "colab_type": "text",
    "id": "AaMAdJuhcUdn"
   },
   "source": [
    "### Barplot"
   ]
  },
  {
   "cell_type": "markdown",
   "metadata": {
    "colab_type": "text",
    "id": "qEspw5k9cS5M"
   },
   "source": []
  },
  {
   "cell_type": "code",
   "execution_count": null,
   "metadata": {
    "colab": {},
    "colab_type": "code",
    "id": "xgU5C-NcYauw",
    "jupyter": {
     "outputs_hidden": true
    }
   },
   "outputs": [],
   "source": [
    "def plot_bar(data, cat_feats):\n",
    "    for feat in cat_feats:\n",
    "        fig = plt.figure(figsize=((5,5)))\n",
    "        ax = fig.gca()\n",
    "\n",
    "        #get the value count of the column\n",
    "        v_count = data[feat].value_counts()\n",
    "        v_count.plot.bar(ax = ax)\n",
    "        ax.set_title(\"Bar plot for \" + feat)\n",
    "        \n",
    "# plot_bar(train_2_plot, cat_feats)\n",
    "    "
   ]
  },
  {
   "cell_type": "markdown",
   "metadata": {
    "colab_type": "text",
    "id": "TOQy3D0YYau_"
   },
   "source": [
    "### VISUALIZATION FOR NUMERICAL FEATURES USING BOXPLOT AND VIOLIN PLOT"
   ]
  },
  {
   "cell_type": "code",
   "execution_count": null,
   "metadata": {
    "colab": {},
    "colab_type": "code",
    "id": "mswdy_x0YavC",
    "jupyter": {
     "outputs_hidden": true
    }
   },
   "outputs": [],
   "source": [
    "def plot_box(train_2_plot, cols, col_x = 'accepted'):\n",
    "    for col in cols:\n",
    "        sns.set_style(\"whitegrid\")\n",
    "        sns.boxplot(col_x, col, data=train_2_plot)\n",
    "        plt.xlabel(col_x) # Set text for the x axis\n",
    "        plt.ylabel(col)# Set text for y axis\n",
    "        plt.show()\n",
    "\n",
    "\n",
    "plot_box(train_2_plot, num_feats)"
   ]
  },
  {
   "cell_type": "code",
   "execution_count": null,
   "metadata": {
    "colab": {},
    "colab_type": "code",
    "id": "51v5RE5eYavR",
    "jupyter": {
     "outputs_hidden": true
    }
   },
   "outputs": [],
   "source": [
    "def plot_violin(train_2_plot, cols, col_x = 'accepted'):\n",
    "    for col in cols:\n",
    "        sns.set_style(\"whitegrid\")\n",
    "        sns.violinplot(col_x, col, data=train_2_plot)\n",
    "        plt.xlabel(col_x) # Set text for the x axis\n",
    "        plt.ylabel(col)# Set text for y axis\n",
    "        plt.show()\n",
    "\n",
    "\n",
    "plot_violin(train_2_plot, num_feats)"
   ]
  },
  {
   "cell_type": "markdown",
   "metadata": {
    "colab_type": "text",
    "id": "nx9ellRtYave"
   },
   "source": [
    "### HISTOGRAM DISTRIBUTION OF NUMERICAL FEATURES"
   ]
  },
  {
   "cell_type": "code",
   "execution_count": null,
   "metadata": {
    "colab": {},
    "colab_type": "code",
    "id": "FbGZwF1GYavh",
    "jupyter": {
     "outputs_hidden": true
    }
   },
   "outputs": [],
   "source": [
    "def plot_histogram(train_2_plot, cols, bins = 8):\n",
    "    for col in cols:\n",
    "        fig = plt.figure(figsize=(6,6)) # define plot area\n",
    "        ax = fig.gca() # define axis    \n",
    "        train_2_plot[col].plot.hist(ax = ax, bins = bins) # Use the plot.hist method on subset of the data frame\n",
    "        ax.set_title('Histogram of ' + col) # Give the plot a main title\n",
    "        ax.set_xlabel(col) # Set text for the x axis\n",
    "        ax.set_ylabel('Count')# Set text for y axis\n",
    "        plt.show()\n",
    "        \n",
    "plot_histogram(train_2_plot, num_feats)"
   ]
  },
  {
   "cell_type": "markdown",
   "metadata": {
    "colab_type": "text",
    "id": "SyLjbzUeYavx"
   },
   "source": [
    "### VISUALIZATION FOR CATEGORICAL FEATURES"
   ]
  },
  {
   "cell_type": "code",
   "execution_count": null,
   "metadata": {
    "colab": {},
    "colab_type": "code",
    "id": "J4KIB3TdYav1"
   },
   "outputs": [],
   "source": [
    "def plot_categoricals_2_label(data, label_name, cat_cols):\n",
    "    # Create a dummy column to hold sum/count of values\n",
    "    data['dummy_count'] = np.ones(shape = data.shape[0])\n",
    "    #Loop over each categorical feature and plot the acceptance rate for each category.\n",
    "    for col in cat_cols:\n",
    "        print(col)\n",
    "        counts = data[['dummy_count', label_name, col]].groupby([label_name, col], as_index = False).count() #get the counts for each category\n",
    "\n",
    "        _ = plt.figure(figsize = (10,4))\n",
    "        plt.subplot(1, 2, 1)\n",
    "        temp = counts[counts[label_name] == 0][[col, 'dummy_count']]  #Get the counts where loan was rejected\n",
    "        plt.bar(temp[col], temp.dummy_count)\n",
    "        plt.xticks(rotation=90)\n",
    "        plt.title('Counts for ' + col + '\\n Rejected Loans')\n",
    "        plt.ylabel('count')\n",
    "\n",
    "        plt.subplot(1, 2, 2)\n",
    "        temp = counts[counts[label_name] == 1][[col, 'dummy_count']]  #Get the counts where loan was rejected\n",
    "        plt.bar(temp[col], temp.dummy_count)\n",
    "        plt.xticks(rotation=90)\n",
    "        plt.title('Counts for ' + col + '\\n Accepted Loans')\n",
    "        plt.ylabel('count')\n",
    "        plt.show()\n",
    "\n",
    "\n",
    "plot_categoricals_2_label(train_2_plot, \"accepted\", cat_feats)"
   ]
  },
  {
   "cell_type": "code",
   "execution_count": null,
   "metadata": {
    "colab": {},
    "colab_type": "code",
    "id": "OvRX_Nh-Kgjk"
   },
   "outputs": [],
   "source": [
    "sns.pairplot(train_2_plot[num_feats])"
   ]
  },
  {
   "cell_type": "markdown",
   "metadata": {
    "colab_type": "text",
    "id": "zrK7PlbsYawR"
   },
   "source": [
    "EXPLORATIONS TO ANSWER EXAM QUESTIONS"
   ]
  },
  {
   "cell_type": "code",
   "execution_count": null,
   "metadata": {
    "colab": {},
    "colab_type": "code",
    "id": "x53H9aFrYawa"
   },
   "outputs": [],
   "source": [
    "sub_set = train_2_plot[train_2_plot['state_code'] == 45][[\"applicant_income\",\"loan_amount\"]]\n",
    "sub_set.head()"
   ]
  },
  {
   "cell_type": "code",
   "execution_count": null,
   "metadata": {
    "colab": {},
    "colab_type": "code",
    "id": "3PZlj-MJYawn"
   },
   "outputs": [],
   "source": [
    "sub_set.plot.scatter(x='applicant_income', y='loan_amount')"
   ]
  },
  {
   "cell_type": "code",
   "execution_count": null,
   "metadata": {
    "colab": {},
    "colab_type": "code",
    "id": "1YLSrRckYaw0"
   },
   "outputs": [],
   "source": [
    "sub_set = train_2_plot[(train_2_plot['state_code'] == 2) | (train_2_plot['state_code'] == 4)][[\"loan_type\",\"accepted\", \"state_code\"]]\n",
    "sub_set.head()"
   ]
  },
  {
   "cell_type": "code",
   "execution_count": null,
   "metadata": {
    "colab": {},
    "colab_type": "code",
    "id": "lvQfaDshYaw9"
   },
   "outputs": [],
   "source": [
    "loan_typ = ['Conventional', 'VA', 'FHA', 'FSA/RHS']\n",
    "states = [2,4]\n",
    "\n",
    "for state in states:\n",
    "    print(\"State \"+ str(state))\n",
    "    for l_type in loan_typ:\n",
    "        print(\"Loan Type: \" + l_type)\n",
    "        accep = sub_set[(sub_set['loan_type'] == l_type) & (sub_set['state_code'] == state) & (sub_set['accepted'] == 1)]['accepted']\n",
    "        print(\"Acceptance rate for state \" + str(state) + \" and loantype of \" + str(l_type) + \" is: \" + str(accep.sum() / sub_set.shape[0]))\n",
    "\n",
    "        \n",
    "        "
   ]
  },
  {
   "cell_type": "markdown",
   "metadata": {
    "colab_type": "text",
    "id": "8_jVc-clYaxI"
   },
   "source": [
    "### FEATURE ENGINEERING"
   ]
  },
  {
   "cell_type": "markdown",
   "metadata": {
    "colab_type": "text",
    "id": "M9YnQotWYaxU"
   },
   "source": [
    "According to the problem description, some missing values in msa_md, state_code and county_code are were replaced with -1. we'll replace these values with NAN.\n",
    "\n",
    "Create new columns that would record if a value was missing or not before we perform imputation"
   ]
  },
  {
   "cell_type": "code",
   "execution_count": null,
   "metadata": {
    "colab": {},
    "colab_type": "code",
    "id": "N_rTuC-IYaxX"
   },
   "outputs": [],
   "source": [
    "def add_nan_cols(train, test, replace= False, replace_val= -1, display= False):\n",
    "    #Replace any encoded missing values with NAN\n",
    "    if replace:\n",
    "        train = train.replace(replace_val, np.nan)\n",
    "        test = test.replace(replace_val, np.nan)\n",
    "        \n",
    "    #get columns with NAN values\n",
    "    temp = train.isna().sum() != 0\n",
    "    cols = temp[temp == True].index\n",
    "        \n",
    "    for col in cols:\n",
    "        train[col + \"_NAN\"] = train[col].notnull().astype('int')\n",
    "        test[col + \"_NAN\"] = test[col].notnull().astype('int')\n",
    "        \n",
    "    if display:\n",
    "        print(\"-------------------------------------------\")\n",
    "        print(\"Table of Train data\")\n",
    "        print(train[train == -1].sum())\n",
    "        print(\"-------------------------------------------\")\n",
    "        print(\"Table of Test data\")\n",
    "        print(test[test == -1].sum())\n",
    "    \n",
    "    return (train, test)\n",
    "        \n",
    "        \n",
    "train, test = add_nan_cols(train_2_plot, test_data, replace=True, display=False)"
   ]
  },
  {
   "cell_type": "markdown",
   "metadata": {
    "colab_type": "text",
    "id": "HpnWkz2jYaxr"
   },
   "source": [
    "### Bin counting Lender column"
   ]
  },
  {
   "cell_type": "code",
   "execution_count": null,
   "metadata": {
    "colab": {},
    "colab_type": "code",
    "id": "6YEgTRP3Yaxw"
   },
   "outputs": [],
   "source": [
    "# # For a categorical, we want to calculate theta = [counts, p(accepted), p(rejected), p(accepted) /p(rejected)]\n",
    "\n",
    "# def accept_count(df, bin_column):\n",
    "#     accepted = pd.Series(df[df['accepted'] > 0][bin_column].value_counts(), name='accepted')\n",
    "#     rejected = pd.Series(df[df['accepted'] < 1][bin_column].value_counts(), name='rejected')\n",
    "    \n",
    "#     counts = pd.DataFrame([accepted, rejected]).T.fillna('0')\n",
    "#     #get total counts\n",
    "#     counts['total_accepted'] = counts['accepted'].astype('int64') + counts['rejected'].astype('int64')\n",
    "#     counts['']\n",
    "#     return counts\n",
    "\n",
    "\n",
    "# def bin_counting(counts):\n",
    "#     counts['probs_accepted'] =  counts['accepted'].astype('int64').divide(counts['total_accepted'].astype('int64'))\n",
    "#     counts['probs_rejected'] =  counts['rejected'].astype('int64').divide(counts['total_accepted'].astype('int64'))\n",
    "# #     counts['probs_combined'] =  counts['probs_accepted'].divide(counts['probs_rejected'])\n",
    "    \n",
    "#     return counts"
   ]
  },
  {
   "cell_type": "code",
   "execution_count": null,
   "metadata": {
    "colab": {},
    "colab_type": "code",
    "id": "SufJLRhHYax6"
   },
   "outputs": [],
   "source": [
    "means = train.groupby(['lender']).agg({'accepted': ['mean']}).reset_index()"
   ]
  },
  {
   "cell_type": "code",
   "execution_count": null,
   "metadata": {
    "colab": {},
    "colab_type": "code",
    "id": "dspoKBifYayF"
   },
   "outputs": [],
   "source": [
    "# Merge to train and test set\n",
    "train = train.merge(means, how='left', on='lender')\n",
    "test = test.merge(means, how='left', on='lender')"
   ]
  },
  {
   "cell_type": "code",
   "execution_count": null,
   "metadata": {
    "colab": {},
    "colab_type": "code",
    "id": "lUECdqTRYayO"
   },
   "outputs": [],
   "source": [
    "labels = train['accepted'].values\n",
    "train.drop(['accepted', 'row_id'], axis=1, inplace=True)\n",
    "test.drop(['row_id'], axis=1, inplace=True)"
   ]
  },
  {
   "cell_type": "markdown",
   "metadata": {
    "colab_type": "text",
    "id": "atKcpVlCYayX"
   },
   "source": [
    "### Log transform numerical data"
   ]
  },
  {
   "cell_type": "code",
   "execution_count": null,
   "metadata": {
    "colab": {},
    "colab_type": "code",
    "id": "CLySCzlnYayb"
   },
   "outputs": [],
   "source": [
    "def log_transform(num_feats, df):\n",
    "    for col in num_feats:\n",
    "        df[col] = np.log10(df[col] + 1)\n",
    "        \n",
    "    return df\n",
    "\n",
    "train = log_transform(num_feats, train)\n",
    "test = log_transform(num_feats, test)"
   ]
  },
  {
   "cell_type": "code",
   "execution_count": null,
   "metadata": {
    "colab": {},
    "colab_type": "code",
    "id": "ueAkziUbYay1"
   },
   "outputs": [],
   "source": [
    "# plot_histogram(train, num_feats)"
   ]
  },
  {
   "cell_type": "markdown",
   "metadata": {
    "colab_type": "text",
    "id": "hU2U2GvJYazK"
   },
   "source": [
    "### TARGET ENCODE LARGE CATEGORICALS"
   ]
  },
  {
   "cell_type": "code",
   "execution_count": null,
   "metadata": {
    "colab": {},
    "colab_type": "code",
    "id": "DgexBbb3YazY"
   },
   "outputs": [],
   "source": [
    "cat_2_enc = ['msa_md', 'state_code', 'county_code', 'lender']\n",
    "encoder = xam.feature_extraction.BayesianTargetEncoder(\n",
    "            columns=cat_2_enc,\n",
    "            prior_weight=10,\n",
    "            suffix=''\n",
    "        )\n",
    "\n",
    "train_enc = encoder.fit_transform(train, pd.Series(labels))\n",
    "test_enc = encoder.transform(test)"
   ]
  },
  {
   "cell_type": "markdown",
   "metadata": {
    "colab_type": "text",
    "id": "WYFaIU_QYazj"
   },
   "source": [
    "#### Dummy Encode categorical variables"
   ]
  },
  {
   "cell_type": "code",
   "execution_count": null,
   "metadata": {
    "colab": {},
    "colab_type": "code",
    "id": "mMyFI3GnYazm"
   },
   "outputs": [],
   "source": [
    "def dummy_encode_data(train, test):\n",
    "    #First we concatenate train and test set\n",
    "    ntrain = train.shape[0]\n",
    "    ntest = test.shape[0]\n",
    "\n",
    "    all_data = pd.concat((train,test)).reset_index(drop=True)\n",
    "    #drop target variable\n",
    "#     all_data.drop(['accepted'], axis=1, inplace=True)\n",
    "    print(\"Total data size is after concatenation: {}\".format(all_data.shape))\n",
    "    \n",
    "    #Dummy encode\n",
    "    all_data = pd.get_dummies(all_data)\n",
    "    print('Data size after dummy encoding: ' + str(all_data.shape))\n",
    "    \n",
    "    #Lets get the new train and test set\n",
    "    train_temp = all_data[:ntrain]\n",
    "    test_temp = all_data[ntrain:]\n",
    "\n",
    "    print('Train size: ' + str(train_temp.shape))\n",
    "    print('Test size: ' + str(test_temp.shape))\n",
    "    \n",
    "    return (train_temp, test_temp)"
   ]
  },
  {
   "cell_type": "code",
   "execution_count": null,
   "metadata": {
    "colab": {
     "base_uri": "https://localhost:8080/",
     "height": 85
    },
    "colab_type": "code",
    "id": "oSzh1o4eYazt",
    "outputId": "bf38c6f7-dfa7-421e-fbd9-7b0a4ab90698"
   },
   "outputs": [
    {
     "name": "stdout",
     "output_type": "stream",
     "text": [
      "Total data size is after concatenation: (1000000, 32)\n",
      "Data size after dummy encoding: (1000000, 55)\n",
      "Train size: (500000, 55)\n",
      "Test size: (500000, 55)\n"
     ]
    }
   ],
   "source": [
    "train_enc, test_enc = dummy_encode_data(train_enc, test_enc)"
   ]
  },
  {
   "cell_type": "code",
   "execution_count": null,
   "metadata": {
    "colab": {
     "base_uri": "https://localhost:8080/",
     "height": 510
    },
    "colab_type": "code",
    "id": "NGRlEzi6fiZ1",
    "outputId": "cbe2defa-44df-4dad-eaa3-d3b19e226a8f"
   },
   "outputs": [
    {
     "name": "stdout",
     "output_type": "stream",
     "text": [
      "Collecting catboost\n",
      "\u001b[?25l  Downloading https://files.pythonhosted.org/packages/f4/ed/7d3b3ccfe8365ca69a5aa9f6855a11ea922d421801d6fbbcd071ac5a1b5e/catboost-0.15.2-cp36-none-manylinux1_x86_64.whl (61.2MB)\n",
      "\u001b[K     |████████████████████████████████| 61.2MB 67.7MB/s \n",
      "\u001b[?25hRequirement already satisfied: pandas>=0.19.1 in /usr/local/lib/python3.6/dist-packages (from catboost) (0.24.2)\n",
      "Requirement already satisfied: numpy>=1.16.0 in /usr/local/lib/python3.6/dist-packages (from catboost) (1.16.4)\n",
      "Requirement already satisfied: matplotlib in /usr/local/lib/python3.6/dist-packages (from catboost) (3.0.3)\n",
      "Requirement already satisfied: plotly in /usr/local/lib/python3.6/dist-packages (from catboost) (3.6.1)\n",
      "Requirement already satisfied: six in /usr/local/lib/python3.6/dist-packages (from catboost) (1.12.0)\n",
      "Requirement already satisfied: graphviz in /usr/local/lib/python3.6/dist-packages (from catboost) (0.10.1)\n",
      "Requirement already satisfied: python-dateutil>=2.5.0 in /usr/local/lib/python3.6/dist-packages (from pandas>=0.19.1->catboost) (2.5.3)\n",
      "Requirement already satisfied: pytz>=2011k in /usr/local/lib/python3.6/dist-packages (from pandas>=0.19.1->catboost) (2018.9)\n",
      "Requirement already satisfied: pyparsing!=2.0.4,!=2.1.2,!=2.1.6,>=2.0.1 in /usr/local/lib/python3.6/dist-packages (from matplotlib->catboost) (2.4.0)\n",
      "Requirement already satisfied: cycler>=0.10 in /usr/local/lib/python3.6/dist-packages (from matplotlib->catboost) (0.10.0)\n",
      "Requirement already satisfied: kiwisolver>=1.0.1 in /usr/local/lib/python3.6/dist-packages (from matplotlib->catboost) (1.1.0)\n",
      "Requirement already satisfied: nbformat>=4.2 in /usr/local/lib/python3.6/dist-packages (from plotly->catboost) (4.4.0)\n",
      "Requirement already satisfied: retrying>=1.3.3 in /usr/local/lib/python3.6/dist-packages (from plotly->catboost) (1.3.3)\n",
      "Requirement already satisfied: requests in /usr/local/lib/python3.6/dist-packages (from plotly->catboost) (2.21.0)\n",
      "Requirement already satisfied: decorator>=4.0.6 in /usr/local/lib/python3.6/dist-packages (from plotly->catboost) (4.4.0)\n",
      "Requirement already satisfied: setuptools in /usr/local/lib/python3.6/dist-packages (from kiwisolver>=1.0.1->matplotlib->catboost) (41.0.1)\n",
      "Requirement already satisfied: ipython-genutils in /usr/local/lib/python3.6/dist-packages (from nbformat>=4.2->plotly->catboost) (0.2.0)\n",
      "Requirement already satisfied: traitlets>=4.1 in /usr/local/lib/python3.6/dist-packages (from nbformat>=4.2->plotly->catboost) (4.3.2)\n",
      "Requirement already satisfied: jsonschema!=2.5.0,>=2.4 in /usr/local/lib/python3.6/dist-packages (from nbformat>=4.2->plotly->catboost) (2.6.0)\n",
      "Requirement already satisfied: jupyter-core in /usr/local/lib/python3.6/dist-packages (from nbformat>=4.2->plotly->catboost) (4.5.0)\n",
      "Requirement already satisfied: idna<2.9,>=2.5 in /usr/local/lib/python3.6/dist-packages (from requests->plotly->catboost) (2.8)\n",
      "Requirement already satisfied: certifi>=2017.4.17 in /usr/local/lib/python3.6/dist-packages (from requests->plotly->catboost) (2019.6.16)\n",
      "Requirement already satisfied: urllib3<1.25,>=1.21.1 in /usr/local/lib/python3.6/dist-packages (from requests->plotly->catboost) (1.24.3)\n",
      "Requirement already satisfied: chardet<3.1.0,>=3.0.2 in /usr/local/lib/python3.6/dist-packages (from requests->plotly->catboost) (3.0.4)\n",
      "Installing collected packages: catboost\n",
      "Successfully installed catboost-0.15.2\n"
     ]
    }
   ],
   "source": [
    "!pip install catboost"
   ]
  },
  {
   "cell_type": "markdown",
   "metadata": {
    "colab_type": "text",
    "id": "MgNFwPXdYaz-"
   },
   "source": [
    "### MODELLING "
   ]
  },
  {
   "cell_type": "code",
   "execution_count": null,
   "metadata": {
    "colab": {},
    "colab_type": "code",
    "id": "cAATncdrYa0S"
   },
   "outputs": [],
   "source": [
    "from sklearn.preprocessing import StandardScaler,Imputer,RobustScaler, PolynomialFeatures\n",
    "from sklearn.impute import SimpleImputer\n",
    "from sklearn.model_selection import train_test_split,KFold,cross_val_score\n",
    "from sklearn.metrics import accuracy_score\n",
    "from sklearn.ensemble import RandomForestClassifier,GradientBoostingClassifier, BaggingClassifier\n",
    "from sklearn.linear_model import LogisticRegression\n",
    "from sklearn.model_selection import RandomizedSearchCV, GridSearchCV\n",
    "from sklearn.metrics import roc_curve\n",
    "from sklearn.metrics import confusion_matrix\n",
    "from sklearn.metrics import precision_score\n",
    "from sklearn.metrics import recall_score\n",
    "from sklearn.metrics import f1_score\n",
    "\n",
    "from catboost import CatBoostClassifier\n",
    "\n",
    "import xgboost as xgb\n",
    "import lightgbm as lgb"
   ]
  },
  {
   "cell_type": "code",
   "execution_count": null,
   "metadata": {
    "colab": {},
    "colab_type": "code",
    "id": "TxZcriFrYa0i"
   },
   "outputs": [],
   "source": [
    "def impute_and_scale(train, test):\n",
    "    impute = SimpleImputer(strategy='mean')\n",
    "    impute.fit(train)\n",
    "    train = impute.transform(train)\n",
    "    test = impute.transform(test)\n",
    "    \n",
    "    scaler = StandardScaler()\n",
    "    scaler.fit(train)\n",
    "    train = scaler.transform(train)\n",
    "    test = scaler.transform(test)\n",
    "    \n",
    "    return (train, test)\n",
    "\n",
    "\n",
    "train_enc, test_enc = impute_and_scale(train_enc, test_enc)"
   ]
  },
  {
   "cell_type": "code",
   "execution_count": null,
   "metadata": {
    "colab": {},
    "colab_type": "code",
    "id": "RkJu4CzyYa03"
   },
   "outputs": [],
   "source": [
    "# ### Create pairwise features\n",
    "# poly = PolynomialFeatures(include_bias=False, interaction_only=True)\n",
    "\n",
    "# train_enc = poly.fit_transform(train_enc)\n",
    "# test_enc = poly.transform(test_enc)"
   ]
  },
  {
   "cell_type": "code",
   "execution_count": null,
   "metadata": {
    "colab": {
     "base_uri": "https://localhost:8080/",
     "height": 85
    },
    "colab_type": "code",
    "id": "csutjdB1Ya1A",
    "outputId": "1d23aecf-eef5-468b-e5e0-dcd825a831ae"
   },
   "outputs": [
    {
     "name": "stdout",
     "output_type": "stream",
     "text": [
      "shape of training data is (400000, 55)\n",
      "shape of training target is (400000,)\n",
      "shape of test data is (100000, 55)\n",
      "shape of test target is (100000,)\n"
     ]
    }
   ],
   "source": [
    "X_train, X_val, y_train, y_val = train_test_split(train_enc, labels, test_size = 0.2)\n",
    "\n",
    "print(\"shape of training data is\", X_train.shape)\n",
    "print(\"shape of training target is\", y_train.shape)\n",
    "print(\"shape of test data is\", X_val.shape)\n",
    "print(\"shape of test target is\", y_val.shape)"
   ]
  },
  {
   "cell_type": "markdown",
   "metadata": {
    "colab_type": "text",
    "id": "U9vMJWoAYa1P"
   },
   "source": [
    "### MODELLING"
   ]
  },
  {
   "cell_type": "code",
   "execution_count": null,
   "metadata": {
    "colab": {},
    "colab_type": "code",
    "id": "srKT7oN0Ya1S"
   },
   "outputs": [],
   "source": [
    "def train_and_predict(train, label, val, val_label, model):\n",
    "    model.fit(train, label)\n",
    "    pred = model.predict(val)\n",
    "    acc = accuracy_score(val_label, pred)\n",
    "    f1 = f1_score(val_label, pred)\n",
    "    precision = precision_score(val_label, pred)\n",
    "    recall = recall_score(val_label, pred)\n",
    "    confusion_mat = confusion_matrix(val_label, pred)\n",
    "    \n",
    "    print(\"Accuracy is \", round(acc * 100))\n",
    "    print(\"F1 score is \", round(f1 * 100))\n",
    "    print(\"Precision is \", round(precision * 100))\n",
    "    print(\"Recall is \", round(recall * 100))\n",
    "    print(\"confusion Matrix is \", confusion_mat)\n",
    "    \n",
    "    fpr, tpr, thresholds = roc_curve(val_label, pred)\n",
    "    # plot no skill\n",
    "    plt.plot([0, 1], [0, 1], linestyle='--')\n",
    "    # plot the roc curve for the model\n",
    "    plt.plot(fpr, tpr, marker='.')\n",
    "    # show the plot\n",
    "    plt.title(\"roc curve for the model\")\n",
    "    plt.show()\n",
    "    plt.savefig(\"roc_plot.png\")\n",
    "\n"
   ]
  },
  {
   "cell_type": "code",
   "execution_count": null,
   "metadata": {
    "colab": {},
    "colab_type": "code",
    "id": "-IbBqcRkYa1j"
   },
   "outputs": [],
   "source": [
    "logreg = LogisticRegression()\n",
    "\n",
    "randforest_model = RandomForestClassifier(n_estimators=200, max_depth=7,\n",
    "                                          random_state=232)\n",
    "\n",
    "lgb_model = lgb.LGBMClassifier(n_estimators=500, random_state=232, learning_rate=0.1)\n",
    "\n",
    "xb_model = xgb.XGBClassifier(n_estimators=1000, random_state=232, learning_rate=0.1)\n",
    "\n",
    "gbmodel = GradientBoostingClassifier(n_estimators=200)\n",
    "\n",
    "cat_model = CatBoostClassifier(\n",
    "                    iterations=500,\n",
    "                    learning_rate=0.03,\n",
    "                    task_type='GPU',\n",
    "                    eval_metric = 'Accuracy',\n",
    "                    )\n",
    "  \n",
    "    "
   ]
  },
  {
   "cell_type": "code",
   "execution_count": null,
   "metadata": {
    "colab": {},
    "colab_type": "code",
    "id": "cJPlEe4ijejA"
   },
   "outputs": [],
   "source": [
    "# # param_lgb ={'num_leaves': [40,50,60], \n",
    "# #             'max_depth':  [5,6,7], \n",
    "# #             'learning_rate':  [0.01, 0.1, 0.2], \n",
    "# #              'min_child_samples':  [15,20,30], \n",
    "# #              'min_child_weight': [1e-5, 1e-3, 1e-2 ],\n",
    "# #              'reg_alpha': [0, 1e-1, 1],\n",
    "# #              'reg_lambda': [0, 1e-1, 1]}\n",
    "\n",
    "\n",
    "# params_cat = {'depth':[3,1,2,6,4,5,7,8],\n",
    "#           'iterations':[250,100,500,1000],\n",
    "#           'learning_rate':[0.03,0.001,0.01,0.1,0.2], \n",
    "#           'l2_leaf_reg':[3,1,5,10,100],\n",
    "#           'border_count':[32,5,10,20,50,100],\n",
    "#           'thread_count':[4]}\n",
    "\n",
    "\n",
    "\n",
    "\n",
    "# gs = GridSearchCV(cat_model, params_cat, cv=3)\n",
    "          \n",
    "\n",
    "# gs.fit(X_train, y_train)\n",
    "# print('Best score reached: {} with params: {} '.format(gs.best_score_, gs.best_params_))"
   ]
  },
  {
   "cell_type": "code",
   "execution_count": null,
   "metadata": {
    "colab": {},
    "colab_type": "code",
    "id": "EohermMlNimm"
   },
   "outputs": [],
   "source": [
    "# fit_params={\"early_stopping_rounds\":30, \n",
    "#             \"eval_metric\" : 'accuracy', \n",
    "#             \"eval_set\" : [(X_val,y_val)],\n",
    "#             'eval_names': ['valid'],\n",
    "#             #'callbacks': [lgb.reset_parameter(learning_rate=learning_rate_010_decay_power_099)],\n",
    "#             'verbose': 100,\n",
    "#             'categorical_feature': 'auto'}\n",
    "\n",
    "\n",
    "\n",
    "# from scipy.stats import randint as sp_randint\n",
    "# from scipy.stats import uniform as sp_uniform\n",
    "\n",
    "# param_test ={'num_leaves': sp_randint(6, 50), \n",
    "#              'min_child_samples': sp_randint(100, 500), \n",
    "#              'min_child_weight': [1e-5, 1e-3, 1e-2, 1e-1, 1, 1e1, 1e2, 1e3, 1e4],\n",
    "#              'subsample': sp_uniform(loc=0.2, scale=0.8), \n",
    "#              'colsample_bytree': sp_uniform(loc=0.4, scale=0.6),\n",
    "#              'reg_alpha': [0, 1e-1, 1, 2, 5, 7, 10, 50, 100],\n",
    "#              'reg_lambda': [0, 1e-1, 1, 5, 10, 20, 50, 100]}\n",
    "\n",
    "\n",
    "# clf = lgb.LGBMClassifier(random_state=314, silent=True, metric='None', n_jobs=-1, n_estimators=1000)\n",
    "\n",
    "# gs_sample_weight = GridSearchCV(estimator=clf_sw, \n",
    "#                                 scoring='accuracy',\n",
    "#                                 cv=3,\n",
    "#                                 refit=True,\n",
    "#                                 verbose=True)\n",
    "\n",
    "# gs_sample_weight.fit(X_train, y_train, **fit_params)\n",
    "# print('Best score reached: {} with params: {} '.format(gs_sample_weight.best_score_, gs_sample_weight.best_params_))"
   ]
  },
  {
   "cell_type": "code",
   "execution_count": null,
   "metadata": {
    "colab": {},
    "colab_type": "code",
    "id": "BS6kLXjKYa10"
   },
   "outputs": [],
   "source": [
    "# train_and_predict(X_train, y_train, X_val, y_val, lgb_model)\n",
    "\n",
    "# # model.fit(\n",
    "# #     X_train, y_train,\n",
    "# #     eval_set=(X_test, y_test),\n",
    "# #     verbose=10\n",
    "# # ); "
   ]
  },
  {
   "cell_type": "code",
   "execution_count": null,
   "metadata": {
    "colab": {},
    "colab_type": "code",
    "id": "QZqLBGbZYa2D"
   },
   "outputs": [],
   "source": [
    "def make_sub_csv(test, model, csv_file, label_name, train_full_dataset = False, data = None, label = None):\n",
    "    '''Creates and return a submission CSV file'''\n",
    "    \n",
    "    if train_full_dataset:\n",
    "        model.fit(data,label)\n",
    "        pred = model.predict(test)\n",
    "        \n",
    "        csv_file[label_name] = pred\n",
    "        csv_file.to_csv(\"submit1.csv\", index=False)\n",
    "        csv_file.head()\n",
    "        return\n",
    "\n",
    "    \n",
    "    pred = model.predict(test)\n",
    "    csv_file[label_name] = pred\n",
    "    csv_file.to_csv(\"submit1.csv\", index=False)\n",
    "    csv_file.head()\n",
    "    \n",
    "    return\n"
   ]
  },
  {
   "cell_type": "code",
   "execution_count": null,
   "metadata": {
    "colab": {},
    "colab_type": "code",
    "id": "CP7I5vGFYa27"
   },
   "outputs": [],
   "source": [
    "# make_sub_csv(test, lgb_model, submission_format, \n",
    "#              label_name=\"accepted\",\n",
    "#              train_full_dataset=True,\n",
    "#              data=train, label=label)"
   ]
  },
  {
   "cell_type": "code",
   "execution_count": null,
   "metadata": {
    "colab": {
     "base_uri": "https://localhost:8080/",
     "height": 119
    },
    "colab_type": "code",
    "id": "ekji8qnbYa3N",
    "outputId": "0b4d3c6b-b6b4-4619-db24-e0d5be2b6588"
   },
   "outputs": [
    {
     "data": {
      "text/plain": [
       "LGBMClassifier(boosting_type='gbdt', class_weight=None, colsample_bytree=1.0,\n",
       "               importance_type='split', learning_rate=0.2, max_depth=6,\n",
       "               min_child_samples=30, min_child_weight=1e-05, min_split_gain=0.0,\n",
       "               n_estimators=500, n_jobs=-1, num_leaves=50, objective=None,\n",
       "               random_state=232, reg_alpha=1, reg_lambda=0, silent=True,\n",
       "               subsample=1.0, subsample_for_bin=200000, subsample_freq=0)"
      ]
     },
     "execution_count": 54,
     "metadata": {
      "tags": []
     },
     "output_type": "execute_result"
    }
   ],
   "source": [
    "opt_param = {'reg_lambda': 0, 'reg_alpha': 1,\n",
    "             'num_leaves': 50, 'min_child_weight': 1e-05, \n",
    "             'min_child_samples': 30, \n",
    "             'max_depth': 6, 'learning_rate': 0.2} \n",
    "\n",
    "lgb_model.set_params(**opt_param)"
   ]
  },
  {
   "cell_type": "code",
   "execution_count": null,
   "metadata": {
    "colab": {},
    "colab_type": "code",
    "id": "taLoSYCpYa3W"
   },
   "outputs": [],
   "source": [
    "bagg_model = BaggingClassifier(lgb_model)"
   ]
  },
  {
   "cell_type": "code",
   "execution_count": null,
   "metadata": {
    "colab": {
     "base_uri": "https://localhost:8080/",
     "height": 400
    },
    "colab_type": "code",
    "id": "rje-_FRhYa3u",
    "outputId": "ae6ea0bb-12b7-4fb1-cb27-f12f7c119605"
   },
   "outputs": [
    {
     "name": "stdout",
     "output_type": "stream",
     "text": [
      "Accuracy is  73.0\n",
      "F1 score is  74.0\n",
      "Precision is  71.0\n",
      "Recall is  77.0\n",
      "confusion Matrix is  [[34134 15732]\n",
      " [11362 38772]]\n"
     ]
    },
    {
     "data": {
      "image/png": "[encoded data removed]",
      "text/plain": [
       "<Figure size 432x288 with 1 Axes>"
      ]
     },
     "metadata": {
      "tags": []
     },
     "output_type": "display_data"
    },
    {
     "data": {
      "text/plain": [
       "<Figure size 432x288 with 0 Axes>"
      ]
     },
     "metadata": {
      "tags": []
     },
     "output_type": "display_data"
    }
   ],
   "source": [
    "train_and_predict(X_train, y_train, X_val, y_val, lgb_model)"
   ]
  },
  {
   "cell_type": "code",
   "execution_count": null,
   "metadata": {
    "colab": {},
    "colab_type": "code",
    "id": "3PBwSq-EYa4W"
   },
   "outputs": [],
   "source": []
  },
  {
   "cell_type": "markdown",
   "metadata": {
    "colab_type": "text",
    "id": "8xo222idYa4e"
   },
   "source": [
    "### RANDOM SEARCH FOR OPTIMAL HYPERPARAMETERS USING LGBM BOOAST"
   ]
  },
  {
   "cell_type": "code",
   "execution_count": null,
   "metadata": {
    "colab": {},
    "colab_type": "code",
    "id": "t-nv0RkeYa4g"
   },
   "outputs": [],
   "source": []
  },
  {
   "cell_type": "code",
   "execution_count": null,
   "metadata": {
    "colab": {},
    "colab_type": "code",
    "id": "vKgDsebxYa4n"
   },
   "outputs": [],
   "source": [
    "# param_test ={'num_leaves': [40,50,60], \n",
    "#             'max_depth':  [5,6,7], \n",
    "#             'learning_rate':  [0.01, 0.1, 0.2], \n",
    "#              'min_child_samples':  [15,20,30], \n",
    "#              'min_child_weight': [1e-5, 1e-3, 1e-2 ],\n",
    "#              'reg_alpha': [0, 1e-1, 1],\n",
    "#              'reg_lambda': [0, 1e-1, 1]}\n",
    "\n",
    "\n",
    "# clf = lgb.LGBMClassifier(random_state=314,\n",
    "#                          silent=True, metric='None',\n",
    "#                          n_estimators=400)\n",
    "\n",
    "# fit_params={\"early_stopping_rounds\":30, \n",
    "#             \"eval_metric\" : 'auc', \n",
    "#             \"eval_set\" : [(X_val,y_val)],\n",
    "#             'eval_names': ['valid'],\n",
    "#             'verbose': 100,\n",
    "#             'categorical_feature': 'auto'}\n",
    "\n",
    "# gs = RandomizedSearchCV(\n",
    "#     estimator=clf, param_distributions=param_test, \n",
    "#     n_iter=10,\n",
    "#     scoring='roc_auc',\n",
    "#     cv=3,\n",
    "#     refit=True,\n",
    "#     random_state=314,\n",
    "#     verbose=True)\n",
    "\n",
    "# gs.fit(X_train, y_train, **fit_params)\n",
    "# print('Best score reached: {} with params: {} '.format(gs.best_score_, gs.best_params_))"
   ]
  },
  {
   "cell_type": "code",
   "execution_count": null,
   "metadata": {
    "colab": {},
    "colab_type": "code",
    "id": "3NyB3BOOYa4y"
   },
   "outputs": [],
   "source": [
    "opt_param = {'reg_lambda': 0, 'reg_alpha': 1,\n",
    "             'num_leaves': 50, 'min_child_weight': 1e-05, \n",
    "             'min_child_samples': 30, \n",
    "             'max_depth': 6, 'learning_rate': 0.2} \n",
    "\n",
    "lgb_model.set_params(**opt_param)"
   ]
  },
  {
   "cell_type": "code",
   "execution_count": null,
   "metadata": {
    "colab": {},
    "colab_type": "code",
    "id": "scbMACw7Ya45"
   },
   "outputs": [],
   "source": [
    "train_and_predict(X_train, y_train, X_val, y_val, lgb_model)"
   ]
  },
  {
   "cell_type": "markdown",
   "metadata": {
    "colab_type": "text",
    "id": "ieopPxUlYa4_"
   },
   "source": [
    "TARGET ENCODING"
   ]
  },
  {
   "cell_type": "code",
   "execution_count": null,
   "metadata": {
    "colab": {},
    "colab_type": "code",
    "id": "5TIQJLA4Ya5D"
   },
   "outputs": [],
   "source": []
  }
 ],
 "metadata": {
  "accelerator": "GPU",
  "colab": {
   "collapsed_sections": [
    "TOQy3D0YYau_",
    "nx9ellRtYave"
   ],
   "name": "MCP_new.ipynb",
   "provenance": [],
   "version": "0.3.2"
  },
  "kernelspec": {
   "display_name": "Python 3",
   "language": "python",
   "name": "python3"
  },
  "language_info": {
   "codemirror_mode": {
    "name": "ipython",
    "version": 3
   },
   "file_extension": ".py",
   "mimetype": "text/x-python",
   "name": "python",
   "nbconvert_exporter": "python",
   "pygments_lexer": "ipython3",
   "version": "3.7.1"
  }
 },
 "nbformat": 4,
 "nbformat_minor": 2
}
